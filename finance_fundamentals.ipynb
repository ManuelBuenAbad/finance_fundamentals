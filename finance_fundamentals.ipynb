{
 "cells": [
  {
   "cell_type": "markdown",
   "id": "c981bcbe",
   "metadata": {},
   "source": [
    "# Finance Fundamentals\n",
    "\n",
    "A Jupyter notebook that computes fundamental and technical metrics of a given company."
   ]
  },
  {
   "cell_type": "markdown",
   "id": "652c4b43",
   "metadata": {},
   "source": [
    "## Loading Modules"
   ]
  },
  {
   "cell_type": "markdown",
   "id": "ebbceb07",
   "metadata": {},
   "source": [
    "### Basic"
   ]
  },
  {
   "cell_type": "code",
   "execution_count": 1,
   "id": "7a03af4c-6cff-4cf2-b0d8-e702775ce756",
   "metadata": {
    "tags": []
   },
   "outputs": [],
   "source": [
    "import os\n",
    "import sys\n",
    "import time\n",
    "\n",
    "import numpy as np\n",
    "from math import pi"
   ]
  },
  {
   "cell_type": "markdown",
   "id": "f99049a8",
   "metadata": {},
   "source": [
    "### Data Handling and Cleaning"
   ]
  },
  {
   "cell_type": "code",
   "execution_count": 2,
   "id": "55b3286c",
   "metadata": {},
   "outputs": [],
   "source": [
    "import pandas as pd\n",
    "import requests"
   ]
  },
  {
   "cell_type": "code",
   "execution_count": 3,
   "id": "53080410-23bd-44db-82e4-b8a44bb676ea",
   "metadata": {},
   "outputs": [],
   "source": [
    "pd.set_option('display.max_columns', None) # displaying all columns!"
   ]
  },
  {
   "cell_type": "markdown",
   "id": "04731a3a-f4b4-44d9-86c8-bb3a64cfb787",
   "metadata": {},
   "source": [
    "Ensuring all Pipelines output `pandas.DataFrame`, globally!"
   ]
  },
  {
   "cell_type": "code",
   "execution_count": 4,
   "id": "d824a7b4-fa92-46f3-8987-5b5cb866f9ca",
   "metadata": {},
   "outputs": [],
   "source": [
    "# from sklearn import set_config\n",
    "\n",
    "# set_config(transform_output=\"pandas\") # globally!"
   ]
  },
  {
   "cell_type": "markdown",
   "id": "df0f2422",
   "metadata": {},
   "source": [
    "### Data Visualization and Analysis"
   ]
  },
  {
   "cell_type": "code",
   "execution_count": 101,
   "id": "7ef0e486",
   "metadata": {},
   "outputs": [],
   "source": [
    "import matplotlib.pyplot as plt\n",
    "import seaborn as sns\n",
    "\n",
    "import plotly.graph_objects as go\n",
    "\n",
    "from IPython.display import display"
   ]
  },
  {
   "cell_type": "code",
   "execution_count": 8,
   "id": "e3b8c2b5",
   "metadata": {},
   "outputs": [],
   "source": [
    "# very pretty plots!\n",
    "plt.style.use('fivethirtyeight')\n",
    "\n",
    "# Override aggressive elements\n",
    "plt.rcParams['font.size'] = 10\n",
    "plt.rcParams['lines.linewidth'] = 1.5\n",
    "plt.rcParams['axes.facecolor'] = 'white'\n",
    "plt.rcParams['figure.facecolor'] = 'white'"
   ]
  },
  {
   "cell_type": "markdown",
   "id": "8249a38f-8b97-4637-8e7f-7eb20fb74b4b",
   "metadata": {},
   "source": [
    "Defining the colors and the palette:"
   ]
  },
  {
   "cell_type": "code",
   "execution_count": 9,
   "id": "ecb4f2ce-871f-4ecf-aa44-238805f13432",
   "metadata": {},
   "outputs": [
    {
     "data": {
      "image/png": "[encoded data removed]",
      "text/plain": [
       "<Figure size 600x100 with 1 Axes>"
      ]
     },
     "metadata": {},
     "output_type": "display_data"
    }
   ],
   "source": [
    "colors_538 = plt.rcParams['axes.prop_cycle'].by_key()['color']\n",
    "palette_538 = sns.color_palette()\n",
    "\n",
    "sns.palplot(palette_538)"
   ]
  },
  {
   "cell_type": "markdown",
   "id": "1718cf32-1a57-44d2-bd3b-18f4ee26557e",
   "metadata": {},
   "source": [
    "Putting the the `matplotlib` verbosity at the `warning` level or above (_i.e._, `error` and `critical`):"
   ]
  },
  {
   "cell_type": "code",
   "execution_count": 10,
   "id": "006444db-4a0a-42f7-83b2-2827c3a8317e",
   "metadata": {},
   "outputs": [],
   "source": [
    "plt.set_loglevel('WARNING')"
   ]
  },
  {
   "cell_type": "markdown",
   "id": "86b97655-dab7-4e32-b503-f379d1764d63",
   "metadata": {},
   "source": [
    "Computing the size of an object:"
   ]
  },
  {
   "cell_type": "code",
   "execution_count": 12,
   "id": "e0e20c9a-cde7-495b-824c-6fd2d699d6f2",
   "metadata": {},
   "outputs": [],
   "source": [
    "def get_object_size(obj):\n",
    "    \"\"\"\n",
    "    Compute size of object (in bytes).\n",
    "    \"\"\"\n",
    "    if isinstance(obj, pd.DataFrame) or isinstance(obj, pd.Series):\n",
    "        try:\n",
    "            return obj.memory_usage(deep=True).sum()\n",
    "        except:\n",
    "            return sys.getsizeof(obj)\n",
    "    return sys.getsizeof(obj)"
   ]
  },
  {
   "cell_type": "markdown",
   "id": "588638a9-2127-4916-8972-400b4495c764",
   "metadata": {},
   "source": [
    "### Finance Modules"
   ]
  },
  {
   "cell_type": "code",
   "execution_count": 15,
   "id": "8bde3223-a389-4603-a632-30e5461b3115",
   "metadata": {},
   "outputs": [],
   "source": [
    "# import edgar as ed\n",
    "import yfinance as yf"
   ]
  },
  {
   "cell_type": "markdown",
   "id": "654ee595-322a-4efc-b152-b7b9e6bd13cb",
   "metadata": {},
   "source": [
    "## Company Facts"
   ]
  },
  {
   "cell_type": "code",
   "execution_count": 16,
   "id": "923d902a-5422-4a48-bbf5-f329fff77cbe",
   "metadata": {},
   "outputs": [],
   "source": [
    "# SEC requires a User-Agent identifying your app/contact:contentReference[oaicite:5]{index=5}.\n",
    "HEADERS = {\n",
    "    \"User-Agent\": \"ManuelBuenAbad (manuelbuenabadnajar@gmail.com)\",\n",
    "    \"Accept-Encoding\": \"gzip, deflate\"\n",
    "}"
   ]
  },
  {
   "cell_type": "markdown",
   "id": "dd626bd4-9380-461c-abf0-24aed0c65d80",
   "metadata": {},
   "source": [
    "### Scraping `SEC` for CIK"
   ]
  },
  {
   "cell_type": "markdown",
   "id": "6f7bea5a-6ad4-4965-8728-e6d9feb93423",
   "metadata": {},
   "source": [
    "We briefly scrape the SEC website to read the CIK (Central Index Key) of a given company's ticker."
   ]
  },
  {
   "cell_type": "code",
   "execution_count": 20,
   "id": "d6cf69e8-ac22-4a4a-aaf4-5a75766b8559",
   "metadata": {},
   "outputs": [],
   "source": [
    "# get all company data (CIK [Central Index Key], ticker, and name)\n",
    "companyTickers = requests.get(\n",
    "    \"https://www.sec.gov/files/company_tickers.json\",\n",
    "    headers=HEADERS\n",
    "    )\n",
    "\n",
    "# dictionary to dataframe\n",
    "companyIDs = pd.DataFrame.from_dict(companyTickers.json(),\n",
    "                                    orient='index')\n",
    "\n",
    "# add leading zeros to CIK\n",
    "companyIDs['cik_str'] = companyIDs['cik_str'].astype(\n",
    "                           str).str.zfill(10)"
   ]
  },
  {
   "cell_type": "code",
   "execution_count": 21,
   "id": "10a51940-90ad-4d8e-84af-ec36d510963f",
   "metadata": {},
   "outputs": [
    {
     "data": {
      "text/html": [
       "<div>\n",
       "<style scoped>\n",
       "    .dataframe tbody tr th:only-of-type {\n",
       "        vertical-align: middle;\n",
       "    }\n",
       "\n",
       "    .dataframe tbody tr th {\n",
       "        vertical-align: top;\n",
       "    }\n",
       "\n",
       "    .dataframe thead th {\n",
       "        text-align: right;\n",
       "    }\n",
       "</style>\n",
       "<table border=\"1\" class=\"dataframe\">\n",
       "  <thead>\n",
       "    <tr style=\"text-align: right;\">\n",
       "      <th></th>\n",
       "      <th>cik_str</th>\n",
       "      <th>ticker</th>\n",
       "      <th>title</th>\n",
       "    </tr>\n",
       "  </thead>\n",
       "  <tbody>\n",
       "    <tr>\n",
       "      <th>0</th>\n",
       "      <td>0001045810</td>\n",
       "      <td>NVDA</td>\n",
       "      <td>NVIDIA CORP</td>\n",
       "    </tr>\n",
       "    <tr>\n",
       "      <th>1</th>\n",
       "      <td>0000789019</td>\n",
       "      <td>MSFT</td>\n",
       "      <td>MICROSOFT CORP</td>\n",
       "    </tr>\n",
       "    <tr>\n",
       "      <th>2</th>\n",
       "      <td>0000320193</td>\n",
       "      <td>AAPL</td>\n",
       "      <td>Apple Inc.</td>\n",
       "    </tr>\n",
       "    <tr>\n",
       "      <th>3</th>\n",
       "      <td>0001018724</td>\n",
       "      <td>AMZN</td>\n",
       "      <td>AMAZON COM INC</td>\n",
       "    </tr>\n",
       "    <tr>\n",
       "      <th>4</th>\n",
       "      <td>0001652044</td>\n",
       "      <td>GOOGL</td>\n",
       "      <td>Alphabet Inc.</td>\n",
       "    </tr>\n",
       "  </tbody>\n",
       "</table>\n",
       "</div>"
      ],
      "text/plain": [
       "      cik_str ticker           title\n",
       "0  0001045810   NVDA     NVIDIA CORP\n",
       "1  0000789019   MSFT  MICROSOFT CORP\n",
       "2  0000320193   AAPL      Apple Inc.\n",
       "3  0001018724   AMZN  AMAZON COM INC\n",
       "4  0001652044  GOOGL   Alphabet Inc."
      ]
     },
     "execution_count": 21,
     "metadata": {},
     "output_type": "execute_result"
    }
   ],
   "source": [
    "companyIDs.head()"
   ]
  },
  {
   "cell_type": "markdown",
   "id": "9325c29a-65bf-466c-ae0f-d60ac2102845",
   "metadata": {},
   "source": [
    "Defining the appropriate function:"
   ]
  },
  {
   "cell_type": "code",
   "execution_count": 22,
   "id": "77a6120f-21b7-47dd-a366-fe90addd74dd",
   "metadata": {},
   "outputs": [],
   "source": [
    "def cik_from_ticker(ticker, compid_df=companyIDs):\n",
    "    \"\"\"\n",
    "    Retrieves the CIK (Central Index Key) for a given stock ticker symbol.\n",
    "\n",
    "    This function looks up the CIK associated with a provided ticker symbol using a reference DataFrame (e.g., one from the SEC's EDGAR data).\n",
    "\n",
    "    Parameters\n",
    "    ----------\n",
    "    ticker : str\n",
    "        The stock ticker symbol to look up (e.g., \"AAPL\").\n",
    "    compid_df : pd.DataFrame, default companyIDs\n",
    "        A DataFrame containing at least the columns \"ticker\" and \"cik_str\", used to map tickers to their corresponding CIKs.\n",
    "\n",
    "    Returns\n",
    "    -------\n",
    "    str\n",
    "        The CIK string corresponding to the given ticker.\n",
    "\n",
    "    Raises\n",
    "    ------\n",
    "    IndexError\n",
    "        If the ticker is not found in `compid_df`.\n",
    "    \"\"\"\n",
    "    \n",
    "    company = compid_df[compid_df[\"ticker\"]==ticker]\n",
    "    return company.cik_str.iloc[0]"
   ]
  },
  {
   "cell_type": "markdown",
   "id": "7366eefd-1c26-4de4-9577-fe02a0384511",
   "metadata": {},
   "source": [
    "### Company concepts from `yfinance`"
   ]
  },
  {
   "cell_type": "markdown",
   "id": "aacacad6-426d-4dcd-b99f-763628535656",
   "metadata": {},
   "source": [
    "#### Concepts"
   ]
  },
  {
   "cell_type": "markdown",
   "id": "e0553775-483f-4986-9a4f-63bd0cc907d8",
   "metadata": {},
   "source": [
    "First, we define a dictionary of equivalent names (_i.e._ \"synonyms\") for the same concepts. This dictionary may need to be constantly updated as we find more and more synonyms for different companies."
   ]
  },
  {
   "cell_type": "code",
   "execution_count": 23,
   "id": "60cb6d9b-6da8-4f4d-bfeb-56d57661e44a",
   "metadata": {},
   "outputs": [],
   "source": [
    "SYNONYMS = {\n",
    "        'net_income': [\"Net Income\", \"Net Income Loss\", \"Profit Loss\"],\n",
    "        'total_assets': [\"Total Assets\"],\n",
    "        'cfo': [\"Operating Cash Flow\", \"Net Cash Provided by Operating Activities\"],\n",
    "        'current_assets': [\"Total Current Assets\", \"Current Assets\"],\n",
    "        'current_liab': [\"Total Current Liabilities\", \"Current Liabilities\"],\n",
    "        'long_term_debt': [\"Long Term Debt\", \"Long-term Debt\", \"Long-Term Debt\"],\n",
    "        'rev': [\"Total Revenue\", \"Revenues\"],\n",
    "        'cogs': [\"Cost Of Revenue\", \"Cost of Goods Sold\"],\n",
    "        'shares_out': [\"Common Stock Shares Outstanding\", \"Shares Outstanding\", \"Ordinary Shares Number\"]\n",
    "    }"
   ]
  },
  {
   "cell_type": "markdown",
   "id": "f5e7f205-c28e-4f5d-9ed4-9950a1351b10",
   "metadata": {},
   "source": [
    "Now, we write a function that extracts the value(s) of a concept from a company's dataframe indexed by that concept, by searching in the concept's list of synonyms."
   ]
  },
  {
   "cell_type": "code",
   "execution_count": 25,
   "id": "719a230c-9a89-4f4d-9e96-283af6712391",
   "metadata": {},
   "outputs": [],
   "source": [
    "def get_item(df: pd.DataFrame,\n",
    "             synonyms: list=SYNONYMS):\n",
    "    \"\"\"\n",
    "    Retrieves a row from a DataFrame using a list of possible index name synonyms.\n",
    "\n",
    "    This function searches for the first matching synonym in the DataFrame index and returns the corresponding row. It is useful for extracting data when row labels may vary in name (e.g., \"Revenue\", \"Total Revenue\", \"Net Sales\").\n",
    "\n",
    "    Parameters\n",
    "    ----------\n",
    "    df : pd.DataFrame\n",
    "        The DataFrame to search, typically with row labels in the index (e.g., financial line items).\n",
    "    synonyms : list of str, default SYNONYMS\n",
    "        A list of possible row names to try in order. The first match is returned.\n",
    "\n",
    "    Returns\n",
    "    -------\n",
    "    pd.Series\n",
    "        The row in the DataFrame corresponding to the first matching synonym.\n",
    "\n",
    "    Raises\n",
    "    ------\n",
    "    KeyError\n",
    "        If none of the synonyms are found in the DataFrame index.\n",
    "    \"\"\"\n",
    "\n",
    "    for name in synonyms:\n",
    "        if name in df.index:\n",
    "            # pick all columns of the df row indexed by the name found\n",
    "            return df.loc[name,:]\n",
    "        else:\n",
    "            continue\n",
    "    \n",
    "    raise KeyError(f\"None of {synonyms} found in DataFrame index.\")"
   ]
  },
  {
   "cell_type": "markdown",
   "id": "fc909708-5f61-4fdc-89d4-e2433d932ee3",
   "metadata": {},
   "source": [
    "#### Piotroski F-score"
   ]
  },
  {
   "cell_type": "code",
   "execution_count": 27,
   "id": "feca71b3-2ab5-4977-a34b-58ac81ba2f31",
   "metadata": {},
   "outputs": [],
   "source": [
    "def compute_piotroski(fs, bs, cf,\n",
    "                      syn=SYNONYMS):\n",
    "    \"\"\"\n",
    "    Compute the Piotroski F-score based on financial statement data.\n",
    "\n",
    "    The Piotroski F-score is a value investing metric composed of 9 binary signals grouped into three categories: profitability, leverage/liquidity, and operating efficiency. This function calculates all 9 signals and their sum (the final F-score).\n",
    "\n",
    "    It expects three annual financial statement DataFrames with line items as the index and years as columns.\n",
    "\n",
    "    Parameters\n",
    "    ----------\n",
    "    fs : pd.DataFrame\n",
    "        The income statement (financial statement) DataFrame.\n",
    "    bs : pd.DataFrame\n",
    "        The balance sheet DataFrame.\n",
    "    cf : pd.DataFrame\n",
    "        The cash flow statement DataFrame.\n",
    "    syn : dict, default SYNONYMS\n",
    "        A dictionary mapping semantic line-item keys (e.g., 'net_income', 'rev') to lists of possible names used in the financial statements.\n",
    "\n",
    "    Returns\n",
    "    -------\n",
    "    f_score : int\n",
    "        The total Piotroski F-score (0 to 9).\n",
    "    score_components : dict\n",
    "        A dictionary with individual binary signals for:\n",
    "        - Profitability (`f1_` to `f4_`)\n",
    "        - Leverage/Liquidity (`f5_` to `f7_`)\n",
    "        - Operating Efficiency (`f8_` to `f9_`)\n",
    "\n",
    "    Raises\n",
    "    ------\n",
    "    ValueError\n",
    "        If fewer than two years of data are available.\n",
    "    KeyError\n",
    "        If any required line item cannot be found in the input DataFrames using the provided synonyms.\n",
    "    \"\"\"\n",
    "\n",
    "    # (1) Pull current and prior values\n",
    "    years = fs.columns.tolist()\n",
    "    if len(years) < 2:\n",
    "        raise ValueError(\"At least two years of data required.\")\n",
    "    curr, prev = years[0], years[1]    \n",
    "\n",
    "    # (2) Computing the Piotroski F-score:\n",
    "\n",
    "    # (2.a) Profitability\n",
    "\n",
    "    # net income (current year)\n",
    "    ni_curr = get_item(fs, syn['net_income'])[curr]\n",
    "\n",
    "    # total assets (current year)\n",
    "    ta_curr = get_item(bs, syn['total_assets'])[curr]\n",
    "\n",
    "    # total assets (previous year)\n",
    "    ta_prev = get_item(bs, syn['total_assets'])[prev]\n",
    "\n",
    "    # total assets (two years prior)\n",
    "    ta_2yrs = get_item(bs, syn['total_assets'])[years[2]]\n",
    "\n",
    "    # total assets (current yearly mean)\n",
    "    ta_mean_curr = (ta_curr + ta_prev)/2\n",
    "\n",
    "    # total assets (previous yearly mean)\n",
    "    ta_mean_prev = (ta_prev + ta_2yrs)/2\n",
    "\n",
    "    # ROA (return on assets) (current year)\n",
    "    roa_curr = ni_curr / ta_curr\n",
    "\n",
    "    # ROA (previous year)\n",
    "    roa_prev = get_item(fs, syn['net_income'])[prev] / get_item(bs, syn['total_assets'])[prev]\n",
    "\n",
    "    # CFO (cash flow from operating activities) (current year)\n",
    "    cfo_curr = get_item(cf, syn['cfo'])[curr]\n",
    "\n",
    "    # profitability score\n",
    "    f_profit = {\n",
    "        'f1_roa_positive': int(roa_curr > 0),\n",
    "        'f2_cfo_positive': int(cfo_curr > 0),\n",
    "        'f3_roa_improved': int(roa_curr > roa_prev),\n",
    "        'f4_cfo_gt_ni': int(cfo_curr > ni_curr),\n",
    "    }\n",
    "\n",
    "    # (2.b) Leverage, liquidity & source of funds\n",
    "\n",
    "    # long-term debt + current liabilities (current year)\n",
    "    tl_curr = get_item(bs, syn['long_term_debt'])[curr] + get_item(bs, syn['current_liab'])[curr]\n",
    "\n",
    "    # long-term debt + current liabilities (previous year)\n",
    "    tl_prev = get_item(bs, syn['long_term_debt'])[prev] + get_item(bs, syn['current_liab'])[prev]\n",
    "\n",
    "    # leverage (current & previous year)\n",
    "    lev_curr, lev_prev = tl_curr / ta_curr, tl_prev / ta_prev\n",
    "\n",
    "    # current assets (current year)\n",
    "    ca_curr = get_item(bs, syn['current_assets'])[curr]\n",
    "\n",
    "    # current assets (previous year)\n",
    "    ca_prev = get_item(bs, syn['current_assets'])[prev]\n",
    "\n",
    "    # current liabilities (current year)\n",
    "    cl_curr = get_item(bs, syn['current_liab'])[curr]\n",
    "\n",
    "    # current liabilities (previous year)\n",
    "    cl_prev = get_item(bs, syn['current_liab'])[prev]\n",
    "\n",
    "    # shares outstanding (current year)\n",
    "    shares_curr = get_item(bs, syn['shares_out'])[curr]\n",
    "\n",
    "    # shares outstanding (previous year)\n",
    "    shares_prev = get_item(bs, syn['shares_out'])[prev]\n",
    "\n",
    "    # leverage, liquidity, and source of funds score\n",
    "    f_leverage = {\n",
    "        'f5_de_leveraged': int(lev_curr < lev_prev),\n",
    "        'f6_curr_ratio_up': int((ca_curr / cl_curr) > (ca_prev / cl_prev)),\n",
    "        'f7_no_new_shares': int(shares_curr <= shares_prev),\n",
    "    }\n",
    "\n",
    "    # (2.c) Operating efficiency\n",
    "\n",
    "    # revenue (current year)\n",
    "    rev_curr = get_item(fs, syn['rev'])[curr]\n",
    "\n",
    "    # revenue (previous year)\n",
    "    rev_prev = get_item(fs, syn['rev'])[prev]\n",
    "\n",
    "    # COGS (cost of goods sold) (current year)\n",
    "    cogs_curr = get_item(fs, syn['cogs'])[curr]\n",
    "\n",
    "    # COGS (previous year)\n",
    "    cogs_prev = get_item(fs, syn['cogs'])[prev]\n",
    "\n",
    "    # gross margin (current year)\n",
    "    gm_curr = (rev_curr - cogs_curr) / rev_curr\n",
    "\n",
    "    # gross margin (previous year)\n",
    "    gm_prev = (rev_prev - cogs_prev) / rev_prev\n",
    "\n",
    "    # asset turnover ratio (current year)\n",
    "    at_curr = rev_curr / ta_mean_curr\n",
    "\n",
    "    # asset turnover ratio (previous year)\n",
    "    at_prev = rev_prev / ta_mean_prev\n",
    "\n",
    "    # operating efficiency score\n",
    "    f_eff = {\n",
    "        'f8_gm_improved': int(gm_curr > gm_prev),\n",
    "        'f9_at_improved': int(at_curr > at_prev),\n",
    "    }\n",
    "\n",
    "    # (2.d) Total F-score\n",
    "    \n",
    "    f_score = sum(f_profit.values()) + sum(f_leverage.values()) + sum(f_eff.values())\n",
    "\n",
    "    # (3) Return final scores\n",
    "    \n",
    "    return f_score, {**f_profit, **f_leverage, **f_eff}"
   ]
  },
  {
   "cell_type": "markdown",
   "id": "0df8236c-5fae-4909-8076-2afc1483fde4",
   "metadata": {},
   "source": [
    "#### Stock's metrics"
   ]
  },
  {
   "cell_type": "code",
   "execution_count": 86,
   "id": "a12679e3-fe52-4c1f-8a89-05cc6dadca26",
   "metadata": {},
   "outputs": [],
   "source": [
    "def compute_stock_metrics(ticker: str,\n",
    "                          verbose_Fscore: bool=False,\n",
    "                          technical: bool=False,\n",
    "                          analysis: bool=False) -> pd.DataFrame:\n",
    "    \"\"\"\n",
    "    Fetch and compute key stock metrics, including fundamentals, Piotroski F-score, and optionally technical and analyst-based indicators.\n",
    "\n",
    "    This function pulls financial statement data using `yfinance`, computes the  Piotroski F-score, and optionally adds technical momentum and Wall Street  recommendation metrics. The result is returned as a one-row `DataFrame`.\n",
    "\n",
    "    Parameters\n",
    "    ----------\n",
    "    ticker : str\n",
    "        Stock ticker symbol (e.g., \"AAPL\", \"TSLA\").\n",
    "    verbose_Fscore : bool, default False\n",
    "        If True, includes individual Piotroski F-score components as columns.\n",
    "    technical : bool, default False\n",
    "        If True, includes technical indicators such as price, volume, moving averages, and 1-year momentum.\n",
    "    analysis : bool, default False\n",
    "        If True, includes analyst metrics such as price target, EPS, and number of analyst ratings.\n",
    "\n",
    "    Returns\n",
    "    -------\n",
    "    pd.DataFrame\n",
    "        A one-row DataFrame containing the selected stock metrics.\n",
    "\n",
    "    Raises\n",
    "    ------\n",
    "    KeyError\n",
    "        If required financial line items are not found in the financial statements.\n",
    "    ValueError\n",
    "        If fewer than two years of financial statement data are available.\n",
    "    \"\"\"\n",
    "\n",
    "    tkr = yf.Ticker(ticker)\n",
    "    info = tkr.info\n",
    "\n",
    "    # Basic identifiers\n",
    "    sector = info.get('sector', None)\n",
    "    industry = info.get('industry', None)\n",
    "    # cik    = info.get('cik', None)\n",
    "    cik = cik_from_ticker(ticker)\n",
    "\n",
    "    # Market cap\n",
    "    market_cap = info.get('marketCap', None)\n",
    "    market_cap_M = np.round(market_cap/(1.e6),3)\n",
    "\n",
    "    # beta\n",
    "    beta  = info.get('beta', None)\n",
    "\n",
    "    # Grab annual statements\n",
    "    fs = tkr.financials           # income statement ( = tkr.income_stmt)\n",
    "    bs = tkr.balance_sheet        # balance sheet\n",
    "    cf = tkr.cashflow             # cash flow\n",
    "\n",
    "    # Piotroski F-Score\n",
    "    f_score, f_components = compute_piotroski(fs, bs, cf)\n",
    "\n",
    "    # Base result\n",
    "    data = {\n",
    "        'ticker': ticker,\n",
    "        'cik': cik,\n",
    "        'sector': sector,\n",
    "        'industry': industry,\n",
    "        'cap_M': market_cap_M,\n",
    "        'beta': beta,\n",
    "        'fscore': f_score,\n",
    "    }\n",
    "    # Add each component if you like:\n",
    "    if verbose_Fscore:\n",
    "        data.update(f_components)\n",
    "\n",
    "    # --- Optional technical analysis block\n",
    "    if technical:\n",
    "        \n",
    "        # Get most recent 1 year history\n",
    "        hist = tkr.history(period=\"1y\")\n",
    "        \n",
    "        close = hist['Close'].iloc[-1]\n",
    "        vol   = hist['Volume'].iloc[-1]\n",
    "        last_dt = hist.index[-1]\n",
    "\n",
    "        # Moving averages\n",
    "        ma50 = hist['Close'].rolling(window=50).mean().iloc[-1] # 50-day\n",
    "        ma200= hist['Close'].rolling(window=200).mean().iloc[-1] # 200-day\n",
    "        \n",
    "        # Momentum: 12-month price change pct\n",
    "        mom = (close / hist['Close'].iloc[0] - 1) * 100\n",
    "\n",
    "        # Updating result\n",
    "        data.update({\n",
    "            'tmstp': last_dt.tz_convert('America/New_York'),\n",
    "            'price': close,\n",
    "            'volume': vol,\n",
    "            'ma50': ma50,\n",
    "            'ma200': ma200,\n",
    "            'moment_1y_pct': mom,\n",
    "        })\n",
    "\n",
    "    # --- Optional analyst/“equity” analysis block\n",
    "    if analysis:\n",
    "        \n",
    "        # yfinance info fields, if available\n",
    "        target = info.get('targetMeanPrice', None)\n",
    "        reco_mean = info.get('recommendationMean', None)\n",
    "        n_analysts= info.get('numberOfAnalystOpinions', None)\n",
    "        eps_trail = info.get('trailingEps', None)\n",
    "        eps_fwd   = info.get('forwardEps', None)\n",
    "\n",
    "        # Updating result\n",
    "        data.update({\n",
    "            'target_mean_price': target,\n",
    "            'recommendation_mean': np.round(reco_mean,2),\n",
    "            'num_analysts': n_analysts,\n",
    "            'eps_trailing': eps_trail,\n",
    "            'eps_forward': eps_fwd,\n",
    "        })\n",
    "\n",
    "    # Wrap into DataFrame\n",
    "    df = pd.DataFrame([data])\n",
    "\n",
    "    # Return dataframe\n",
    "    return df"
   ]
  },
  {
   "cell_type": "code",
   "execution_count": 85,
   "id": "0782659a-f6b0-4b65-a2ad-098e22d95c8a",
   "metadata": {},
   "outputs": [
    {
     "data": {
      "text/html": [
       "<div>\n",
       "<style scoped>\n",
       "    .dataframe tbody tr th:only-of-type {\n",
       "        vertical-align: middle;\n",
       "    }\n",
       "\n",
       "    .dataframe tbody tr th {\n",
       "        vertical-align: top;\n",
       "    }\n",
       "\n",
       "    .dataframe thead th {\n",
       "        text-align: right;\n",
       "    }\n",
       "</style>\n",
       "<table border=\"1\" class=\"dataframe\">\n",
       "  <thead>\n",
       "    <tr style=\"text-align: right;\">\n",
       "      <th></th>\n",
       "      <th>ticker</th>\n",
       "      <th>cik</th>\n",
       "      <th>sector</th>\n",
       "      <th>industry</th>\n",
       "      <th>cap_M</th>\n",
       "      <th>beta</th>\n",
       "      <th>fscore</th>\n",
       "      <th>tmstp</th>\n",
       "      <th>price</th>\n",
       "      <th>volume</th>\n",
       "      <th>ma50</th>\n",
       "      <th>ma200</th>\n",
       "      <th>moment_1y_pct</th>\n",
       "      <th>target_mean_price</th>\n",
       "      <th>recommendation_mean</th>\n",
       "      <th>num_analysts</th>\n",
       "      <th>eps_trailing</th>\n",
       "      <th>eps_forward</th>\n",
       "    </tr>\n",
       "  </thead>\n",
       "  <tbody>\n",
       "    <tr>\n",
       "      <th>0</th>\n",
       "      <td>BLDR</td>\n",
       "      <td>0001316835</td>\n",
       "      <td>Industrials</td>\n",
       "      <td>Building Products &amp; Equipment</td>\n",
       "      <td>14691.865</td>\n",
       "      <td>1.7</td>\n",
       "      <td>4</td>\n",
       "      <td>2025-07-11 00:00:00-04:00</td>\n",
       "      <td>132.940002</td>\n",
       "      <td>428383</td>\n",
       "      <td>115.8284</td>\n",
       "      <td>147.01615</td>\n",
       "      <td>-9.4969</td>\n",
       "      <td>139.7915</td>\n",
       "      <td>1.71</td>\n",
       "      <td>20</td>\n",
       "      <td>7.8</td>\n",
       "      <td>11.65</td>\n",
       "    </tr>\n",
       "  </tbody>\n",
       "</table>\n",
       "</div>"
      ],
      "text/plain": [
       "  ticker         cik       sector                       industry      cap_M  \\\n",
       "0   BLDR  0001316835  Industrials  Building Products & Equipment  14691.865   \n",
       "\n",
       "   beta  fscore                     tmstp       price  volume      ma50  \\\n",
       "0   1.7       4 2025-07-11 00:00:00-04:00  132.940002  428383  115.8284   \n",
       "\n",
       "       ma200  moment_1y_pct  target_mean_price  recommendation_mean  \\\n",
       "0  147.01615        -9.4969           139.7915                 1.71   \n",
       "\n",
       "   num_analysts  eps_trailing  eps_forward  \n",
       "0            20           7.8        11.65  "
      ]
     },
     "execution_count": 85,
     "metadata": {},
     "output_type": "execute_result"
    }
   ],
   "source": [
    "df = compute_stock_metrics(\"BLDR\", technical=True, analysis=True)\n",
    "display(df)\n",
    "del df"
   ]
  },
  {
   "cell_type": "markdown",
   "id": "0da1d666-890c-46a8-bbdc-32f8f1abcfed",
   "metadata": {},
   "source": [
    "#### Candlesticks"
   ]
  },
  {
   "cell_type": "code",
   "execution_count": 188,
   "id": "82de6741-7b60-4539-95fa-eabf43fabb0c",
   "metadata": {},
   "outputs": [],
   "source": [
    "from pandas.tseries.holiday import USFederalHolidayCalendar"
   ]
  },
  {
   "cell_type": "markdown",
   "id": "f8e1b5f6-0a1f-4d28-8216-349ef4acee88",
   "metadata": {},
   "source": [
    "Let us begin by creating a list of us holidays that fall within a certain time interval:"
   ]
  },
  {
   "cell_type": "code",
   "execution_count": 198,
   "id": "9af0d769-df16-4dc8-aa0c-10bd11b1e1b9",
   "metadata": {},
   "outputs": [],
   "source": [
    "def get_us_federal_holidays(start: str, end: str, market_hours_offset: bool=True) -> list:\n",
    "    \"\"\"\n",
    "    Return a list of U.S. federal holidays between two dates, optionally offset to market open time.\n",
    "\n",
    "    This function uses `pandas.tseries.holiday.USFederalHolidayCalendar` to find holidays between the given start and end dates (inclusive), and optionally adjusts them to align with standard U.S. market open time (9:30 AM).\n",
    "\n",
    "    Parameters\n",
    "    ----------\n",
    "    start : str\n",
    "        Start date in 'YYYY-MM-DD' format.\n",
    "    end : str\n",
    "        End date in 'YYYY-MM-DD' format.\n",
    "    market_hours_offset : bool, default True\n",
    "        If True, offset each holiday date to 9:30 AM (U.S. market open time).\n",
    "\n",
    "    Returns\n",
    "    -------\n",
    "    list\n",
    "        A list of holiday dates between `start` and `end`. If `market_hours_offset` is True,\n",
    "        each date is a `Timestamp` with time set to 9:30 AM. Otherwise, the list contains strings\n",
    "        in 'YYYY-MM-DD' format.\n",
    "    \"\"\"\n",
    "\n",
    "    # Getting the US Holiday Calendar\n",
    "    cal = USFederalHolidayCalendar()\n",
    "\n",
    "    # Obtaining a first list of US holidays in between those two dates\n",
    "    holidays = cal.holidays(start=start, end=end)\n",
    "\n",
    "    # To standard time format:\n",
    "    holidays = holidays.strftime('%Y-%m-%d').tolist()\n",
    "\n",
    "    # Offsetting by the market open hours:\n",
    "    if market_hours_offset:\n",
    "        holidays = [pd.to_datetime(hd) + pd.offsets.Hour(9) + pd.offsets.Minute(30) for hd in holidays]\n",
    "    \n",
    "    return holidays"
   ]
  },
  {
   "cell_type": "markdown",
   "id": "b7863295-f8e6-42a8-9408-31a81ba6c389",
   "metadata": {},
   "source": [
    "Creating the plot:"
   ]
  },
  {
   "cell_type": "code",
   "execution_count": 200,
   "id": "a1686c50-1673-4c95-9839-e1cd2caabf37",
   "metadata": {},
   "outputs": [],
   "source": [
    "# pulling the history of the ticker\n",
    "history = yf.Ticker(\"AAPL\").history(period=\"1mo\", interval=\"1h\", prepost=False)\n",
    "\n",
    "# computing the US holidays that fell within the given history\n",
    "us_holidays = get_us_federal_holidays(history.index[0], history.index[-1])"
   ]
  },
  {
   "cell_type": "code",
   "execution_count": 201,
   "id": "dbd9a47a-ec20-4dbb-a107-b6b7e5045530",
   "metadata": {},
   "outputs": [
    {
     "data": {
      "application/vnd.plotly.v1+json": {
       "config": {
        "plotlyServerURL": "https://plot.ly"
       },
       "data": [
        {
         "close": [
          200.91000366210938,
          199.23919677734375,
          198.97999572753906,
          198.85000610351562,
          198.0666961669922,
          198.14999389648438,
          198.58999633789062,
          199.25999450683594,
          198.75,
          198.88499450683594,
          199.1999969482422,
          196.15499877929688,
          197.50999450683594,
          197.27000427246094,
          197.27000427246094,
          196.2779998779297,
          196.22000122070312,
          196.4499969482422,
          198.42999267578125,
          197.31500244140625,
          197.0800018310547,
          197.875,
          197.9886932373047,
          198.2449951171875,
          198.3699951171875,
          197.5800018310547,
          197.5800018310547,
          197.61500549316406,
          196.52000427246094,
          195.4600067138672,
          195.83999633789062,
          195.63999938964844,
          197.06019592285156,
          196.94000244140625,
          196.9508056640625,
          196.05999755859375,
          195.91000366210938,
          195.63999938964844,
          196.25,
          198.67999267578125,
          197.6699981689453,
          198.49000549316406,
          198.32000732421875,
          199.80999755859375,
          199.92999267578125,
          200.94000244140625,
          201.37179565429688,
          200.52999877929688,
          200.1396026611328,
          201.43899536132812,
          201.69000244140625,
          201.36019897460938,
          201.5500030517578,
          200.9822998046875,
          201.3800048828125,
          202.4499969482422,
          201.9600067138672,
          201.57000732421875,
          201.52999877929688,
          200.2899932861328,
          202.44000244140625,
          202.10000610351562,
          201.8699951171875,
          201.13999938964844,
          201.01539611816406,
          201.15980529785156,
          201.60000610351562,
          199.75,
          199.69000244140625,
          200.122802734375,
          200.24000549316406,
          200.97999572753906,
          201.1750030517578,
          200.94000244140625,
          201.58009338378906,
          201.38180541992188,
          201.99000549316406,
          202.0800018310547,
          201.44000244140625,
          201.125,
          201.10000610351562,
          201.00990295410156,
          199.97000122070312,
          200.3249969482422,
          200.15499877929688,
          200.69500732421875,
          206.58560180664062,
          205.1199951171875,
          209.54010009765625,
          207.9499969482422,
          207.875,
          208.1103057861328,
          208.2100067138672,
          208.19000244140625,
          207.86000061035156,
          212.3000030517578,
          211.47500610351562,
          210.92030334472656,
          210.81809997558594,
          211.58999633789062,
          211.88999938964844,
          212.41000366210938,
          213.73500061035156,
          213.8800048828125,
          214.10000610351562,
          212.36000061035156,
          212.0399932861328,
          210.8365020751953,
          209.67039489746094,
          208.94039916992188,
          209.4499969482422,
          209.94000244140625,
          209.27999877929688,
          209.87069702148438,
          210.8300018310547,
          209.8350067138672,
          209.94500732421875,
          209.60499572753906,
          210.03500366210938,
          209.91000366210938,
          207.80499267578125,
          207.8000030517578,
          208.9156036376953,
          209.7324981689453,
          209.88999938964844,
          211.11000061035156,
          212.00999450683594,
          212.97999572753906,
          212.0800018310547,
          212.6199951171875,
          212.60000610351562,
          212.5749969482422,
          212.4199981689453,
          211.7899932861328,
          210.8249969482422,
          210.63499450683594,
          210.53990173339844
         ],
         "high": [
          201.2364959716797,
          200.98500061035156,
          199.60000610351562,
          199.125,
          199.38999938964844,
          198.9250030517578,
          198.63999938964844,
          199.44000244140625,
          199.67990112304688,
          199.0500030517578,
          199.1999969482422,
          200.3699951171875,
          197.63999938964844,
          198.04750061035156,
          197.57000732421875,
          197.7100067138672,
          196.63999938964844,
          196.69000244140625,
          198.68499755859375,
          198.66000366210938,
          197.6300048828125,
          197.9550018310547,
          198.19000244140625,
          198.39999389648438,
          198.49000549316406,
          197.92999267578125,
          197.7899932861328,
          198.38890075683594,
          197.845703125,
          196.82000732421875,
          195.94000244140625,
          195.88499450683594,
          197.50999450683594,
          197.57000732421875,
          197.22999572753906,
          197.02000427246094,
          196.97999572753906,
          196.4499969482422,
          197.11000061035156,
          200.94000244140625,
          198.69000244140625,
          198.86000061035156,
          199.3699951171875,
          200.19000244140625,
          200.33670043945312,
          201.6999969482422,
          202.3000030517578,
          201.58999633789062,
          200.52000427246094,
          201.52000427246094,
          202.24000549316406,
          201.8968048095703,
          201.83999633789062,
          202.6699981689453,
          201.5800018310547,
          202.56500244140625,
          203.44000244140625,
          202.3300018310547,
          202.01499938964844,
          201.5998992919922,
          203.66000366210938,
          203.1750030517578,
          202.1699981689453,
          202.17970275878906,
          201.27999877929688,
          201.5,
          201.6199951171875,
          202.61500549316406,
          200.50999450683594,
          200.7899932861328,
          200.27000427246094,
          201.36000061035156,
          201.17869567871094,
          201.55999755859375,
          203.22000122070312,
          201.9501953125,
          202.0500030517578,
          202.6999969482422,
          202.11000061035156,
          201.52000427246094,
          201.27000427246094,
          202.19000244140625,
          201.32000732421875,
          200.4199981689453,
          200.47999572753906,
          200.8300018310547,
          207.08999633789062,
          207.38999938964844,
          209.8300018310547,
          210.18649291992188,
          208.18499755859375,
          208.52999877929688,
          208.4199981689453,
          208.42990112304688,
          208.22999572753906,
          213.33999633789062,
          212.85000610351562,
          212.00999450683594,
          211.3300018310547,
          211.77000427246094,
          212.9600067138672,
          212.75,
          213.85989379882812,
          214.4600067138672,
          214.64999389648438,
          216.22999572753906,
          212.60000610351562,
          212.1999969482422,
          211.16990661621094,
          210.5,
          210.07000732421875,
          210.25,
          210.49000549316406,
          211.42999267578125,
          211.18499755859375,
          210.88999938964844,
          210.25999450683594,
          210.0449981689453,
          210.33999633789062,
          210.89999389648438,
          209.89999389648438,
          208.22000122070312,
          209.0449981689453,
          209.97999572753906,
          210.19000244140625,
          211.3300018310547,
          212.29989624023438,
          213.47999572753906,
          213.17999267578125,
          212.77999877929688,
          213.16000366210938,
          213.4499969482422,
          213.02000427246094,
          212.1300048828125,
          211.7899932861328,
          211.2100067138672,
          210.66749572753906
         ],
         "low": [
          200.18499755859375,
          198.7100067138672,
          198.6199951171875,
          198.41000366210938,
          197.360107421875,
          197.86270141601562,
          197.7550048828125,
          198.2100067138672,
          198.6696014404297,
          198.5449981689453,
          198.39999389648438,
          195.91000366210938,
          195.97999572753906,
          197.2100067138672,
          196.9199981689453,
          196.22000122070312,
          195.80999755859375,
          195.77000427246094,
          196.5635986328125,
          197.1649932861328,
          196.875,
          197.02000427246094,
          197.77000427246094,
          197.66000366210938,
          197.92999267578125,
          196.2550048828125,
          197.3249969482422,
          197.4600067138672,
          196.46499633789062,
          195.2100067138672,
          195.42030334472656,
          195.4409942626953,
          195.07000732421875,
          196.63499450683594,
          196.50030517578125,
          196.0500030517578,
          195.6300048828125,
          195.11000061035156,
          195.46600341796875,
          197.52999877929688,
          196.85960388183594,
          197.6999969482422,
          198.27000427246094,
          198.07000732421875,
          199.60009765625,
          199.77000427246094,
          199.94000244140625,
          200.22500610351562,
          199.50999450683594,
          198.9600067138672,
          201.0800018310547,
          201.0507049560547,
          201.13499450683594,
          200.1999969482422,
          200.7404022216797,
          201.24000549316406,
          201.94000244140625,
          201.30999755859375,
          201.30499267578125,
          200.27000427246094,
          201.1999969482422,
          201.99000549316406,
          201.39999389648438,
          201.08999633789062,
          200.62010192871094,
          200.9499969482422,
          200.88499450683594,
          199.64999389648438,
          199.6199951171875,
          199.4600067138672,
          199.63499450683594,
          199.97500610351562,
          200.75,
          200.7899932861328,
          201.25999450683594,
          200.85499572753906,
          201.38999938964844,
          201.72999572753906,
          200.92999267578125,
          200.7899932861328,
          200.22000122070312,
          200.35240173339844,
          199.59010314941406,
          199.8000030517578,
          199.84500122070312,
          199.89999389648438,
          199.2606964111328,
          205.0500030517578,
          206.14010620117188,
          207.47000122070312,
          206.7899932861328,
          207.10000610351562,
          207.61000061035156,
          207.375,
          207.51499938964844,
          208.2760009765625,
          211.4199981689453,
          210.86000061035156,
          210.22000122070312,
          210.74000549316406,
          211.3699951171875,
          211.9499969482422,
          211.8101043701172,
          213.0399932861328,
          213.6699981689453,
          211.80999755859375,
          211.60000610351562,
          210.3800048828125,
          209.52000427246094,
          208.91000366210938,
          208.8000030517578,
          209.19000244140625,
          208.4499969482422,
          209.25999450683594,
          209.77999877929688,
          209.5,
          209.32000732421875,
          209.40499877929688,
          209.3000030517578,
          209.35000610351562,
          207.22000122070312,
          207.26589965820312,
          207.57139587402344,
          208.72000122070312,
          209.6199951171875,
          209.72999572753906,
          210.1199951171875,
          211.89999389648438,
          211.8300018310547,
          211.85000610351562,
          212.30999755859375,
          212.57000732421875,
          212.08999633789062,
          209.86000061035156,
          210.47999572753906,
          210.46499633789062,
          210.4499969482422
         ],
         "open": [
          200.19070434570312,
          200.90499877929688,
          199.22000122070312,
          198.9499969482422,
          199.0800018310547,
          198.0800018310547,
          198.13369750976562,
          198.5800018310547,
          199.25999450683594,
          198.75999450683594,
          198.8800048828125,
          199.50999450683594,
          196.13999938964844,
          197.52000427246094,
          197.2899932861328,
          197.25,
          196.25999450683594,
          196.24000549316406,
          197.2899932861328,
          198.43499755859375,
          197.30999755859375,
          197.10000610351562,
          197.88499450683594,
          197.99000549316406,
          198.2449951171875,
          197.25,
          197.58299255371094,
          197.58999633789062,
          197.61000061035156,
          196.50999450683594,
          195.47999572753906,
          195.85000610351562,
          195.9199981689453,
          197.11000061035156,
          196.85000610351562,
          196.94000244140625,
          196.07000732421875,
          195.9199981689453,
          195.6300048828125,
          198.23500061035156,
          198.69000244140625,
          197.7100067138672,
          198.49000549316406,
          198.32000732421875,
          199.82000732421875,
          199.9199981689453,
          201.53199768066406,
          201.3800048828125,
          200.3300018310547,
          200.13999938964844,
          201.4600067138672,
          201.6699981689453,
          201.35000610351562,
          201.60000610351562,
          200.99000549316406,
          201.4600067138672,
          202.45150756835938,
          201.9600067138672,
          201.5800018310547,
          201.53500366210938,
          201.4199981689453,
          202.44000244140625,
          202.10499572753906,
          201.8800048828125,
          201.13999938964844,
          201.02000427246094,
          201.13999938964844,
          202.35000610351562,
          199.74000549316406,
          199.7100067138672,
          200.13780212402344,
          200.25,
          200.99000549316406,
          201.17520141601562,
          201.89500427246094,
          201.58999633789062,
          201.39999389648438,
          201.99000549316406,
          202.0800018310547,
          201.4499969482422,
          201.1300048828125,
          202.00999450683594,
          201.0050048828125,
          199.98919677734375,
          200.30999755859375,
          200.15499877929688,
          200.69509887695312,
          206.5500030517578,
          206.6649932861328,
          209.5500946044922,
          207.9600067138672,
          207.8699951171875,
          208.1199951171875,
          208.2100067138672,
          208.18499755859375,
          209.0800018310547,
          212.27999877929688,
          211.49000549316406,
          210.9199981689453,
          210.80999755859375,
          211.5749969482422,
          212.0500030517578,
          212.14500427246094,
          213.74000549316406,
          213.889892578125,
          212.67999267578125,
          212.3699951171875,
          212.1199951171875,
          210.83900451660156,
          209.6699981689453,
          208.94000244140625,
          209.4600067138672,
          210.1300048828125,
          209.28500366210938,
          209.8800048828125,
          210.83999633789062,
          209.83999633789062,
          209.9499969482422,
          209.58999633789062,
          209.52999877929688,
          209.88999938964844,
          207.80999755859375,
          207.81039428710938,
          208.9149932861328,
          209.7449951171875,
          209.8800048828125,
          210.5050048828125,
          212.02999877929688,
          212.99000549316406,
          212.07000732421875,
          212.61000061035156,
          212.5948944091797,
          212.5800018310547,
          210.56500244140625,
          211.7899932861328,
          210.8300018310547,
          210.6199951171875
         ],
         "type": "candlestick",
         "x": [
          "2025-06-11T12:30:00-04:00",
          "2025-06-11T13:30:00-04:00",
          "2025-06-11T14:30:00-04:00",
          "2025-06-11T15:30:00-04:00",
          "2025-06-12T09:30:00-04:00",
          "2025-06-12T10:30:00-04:00",
          "2025-06-12T11:30:00-04:00",
          "2025-06-12T12:30:00-04:00",
          "2025-06-12T13:30:00-04:00",
          "2025-06-12T14:30:00-04:00",
          "2025-06-12T15:30:00-04:00",
          "2025-06-13T09:30:00-04:00",
          "2025-06-13T10:30:00-04:00",
          "2025-06-13T11:30:00-04:00",
          "2025-06-13T12:30:00-04:00",
          "2025-06-13T13:30:00-04:00",
          "2025-06-13T14:30:00-04:00",
          "2025-06-13T15:30:00-04:00",
          "2025-06-16T09:30:00-04:00",
          "2025-06-16T10:30:00-04:00",
          "2025-06-16T11:30:00-04:00",
          "2025-06-16T12:30:00-04:00",
          "2025-06-16T13:30:00-04:00",
          "2025-06-16T14:30:00-04:00",
          "2025-06-16T15:30:00-04:00",
          "2025-06-17T09:30:00-04:00",
          "2025-06-17T10:30:00-04:00",
          "2025-06-17T11:30:00-04:00",
          "2025-06-17T12:30:00-04:00",
          "2025-06-17T13:30:00-04:00",
          "2025-06-17T14:30:00-04:00",
          "2025-06-17T15:30:00-04:00",
          "2025-06-18T09:30:00-04:00",
          "2025-06-18T10:30:00-04:00",
          "2025-06-18T11:30:00-04:00",
          "2025-06-18T12:30:00-04:00",
          "2025-06-18T13:30:00-04:00",
          "2025-06-18T14:30:00-04:00",
          "2025-06-18T15:30:00-04:00",
          "2025-06-20T09:30:00-04:00",
          "2025-06-20T10:30:00-04:00",
          "2025-06-20T11:30:00-04:00",
          "2025-06-20T12:30:00-04:00",
          "2025-06-20T13:30:00-04:00",
          "2025-06-20T14:30:00-04:00",
          "2025-06-20T15:30:00-04:00",
          "2025-06-23T09:30:00-04:00",
          "2025-06-23T10:30:00-04:00",
          "2025-06-23T11:30:00-04:00",
          "2025-06-23T12:30:00-04:00",
          "2025-06-23T13:30:00-04:00",
          "2025-06-23T14:30:00-04:00",
          "2025-06-23T15:30:00-04:00",
          "2025-06-24T09:30:00-04:00",
          "2025-06-24T10:30:00-04:00",
          "2025-06-24T11:30:00-04:00",
          "2025-06-24T12:30:00-04:00",
          "2025-06-24T13:30:00-04:00",
          "2025-06-24T14:30:00-04:00",
          "2025-06-24T15:30:00-04:00",
          "2025-06-25T09:30:00-04:00",
          "2025-06-25T10:30:00-04:00",
          "2025-06-25T11:30:00-04:00",
          "2025-06-25T12:30:00-04:00",
          "2025-06-25T13:30:00-04:00",
          "2025-06-25T14:30:00-04:00",
          "2025-06-25T15:30:00-04:00",
          "2025-06-26T09:30:00-04:00",
          "2025-06-26T10:30:00-04:00",
          "2025-06-26T11:30:00-04:00",
          "2025-06-26T12:30:00-04:00",
          "2025-06-26T13:30:00-04:00",
          "2025-06-26T14:30:00-04:00",
          "2025-06-26T15:30:00-04:00",
          "2025-06-27T09:30:00-04:00",
          "2025-06-27T10:30:00-04:00",
          "2025-06-27T11:30:00-04:00",
          "2025-06-27T12:30:00-04:00",
          "2025-06-27T13:30:00-04:00",
          "2025-06-27T14:30:00-04:00",
          "2025-06-27T15:30:00-04:00",
          "2025-06-30T09:30:00-04:00",
          "2025-06-30T10:30:00-04:00",
          "2025-06-30T11:30:00-04:00",
          "2025-06-30T12:30:00-04:00",
          "2025-06-30T13:30:00-04:00",
          "2025-06-30T14:30:00-04:00",
          "2025-06-30T15:30:00-04:00",
          "2025-07-01T09:30:00-04:00",
          "2025-07-01T10:30:00-04:00",
          "2025-07-01T11:30:00-04:00",
          "2025-07-01T12:30:00-04:00",
          "2025-07-01T13:30:00-04:00",
          "2025-07-01T14:30:00-04:00",
          "2025-07-01T15:30:00-04:00",
          "2025-07-02T09:30:00-04:00",
          "2025-07-02T10:30:00-04:00",
          "2025-07-02T11:30:00-04:00",
          "2025-07-02T12:30:00-04:00",
          "2025-07-02T13:30:00-04:00",
          "2025-07-02T14:30:00-04:00",
          "2025-07-02T15:30:00-04:00",
          "2025-07-03T09:30:00-04:00",
          "2025-07-03T10:30:00-04:00",
          "2025-07-03T11:30:00-04:00",
          "2025-07-07T09:30:00-04:00",
          "2025-07-07T10:30:00-04:00",
          "2025-07-07T11:30:00-04:00",
          "2025-07-07T12:30:00-04:00",
          "2025-07-07T13:30:00-04:00",
          "2025-07-07T14:30:00-04:00",
          "2025-07-07T15:30:00-04:00",
          "2025-07-08T09:30:00-04:00",
          "2025-07-08T10:30:00-04:00",
          "2025-07-08T11:30:00-04:00",
          "2025-07-08T12:30:00-04:00",
          "2025-07-08T13:30:00-04:00",
          "2025-07-08T14:30:00-04:00",
          "2025-07-08T15:30:00-04:00",
          "2025-07-09T09:30:00-04:00",
          "2025-07-09T10:30:00-04:00",
          "2025-07-09T11:30:00-04:00",
          "2025-07-09T12:30:00-04:00",
          "2025-07-09T13:30:00-04:00",
          "2025-07-09T14:30:00-04:00",
          "2025-07-09T15:30:00-04:00",
          "2025-07-10T09:30:00-04:00",
          "2025-07-10T10:30:00-04:00",
          "2025-07-10T11:30:00-04:00",
          "2025-07-10T12:30:00-04:00",
          "2025-07-10T13:30:00-04:00",
          "2025-07-10T14:30:00-04:00",
          "2025-07-10T15:30:00-04:00",
          "2025-07-11T09:30:00-04:00",
          "2025-07-11T10:30:00-04:00",
          "2025-07-11T11:30:00-04:00",
          "2025-07-11T12:30:00-04:00"
         ]
        }
       ],
       "layout": {
        "template": {
         "data": {
          "bar": [
           {
            "error_x": {
             "color": "#2a3f5f"
            },
            "error_y": {
             "color": "#2a3f5f"
            },
            "marker": {
             "line": {
              "color": "#E5ECF6",
              "width": 0.5
             },
             "pattern": {
              "fillmode": "overlay",
              "size": 10,
              "solidity": 0.2
             }
            },
            "type": "bar"
           }
          ],
          "barpolar": [
           {
            "marker": {
             "line": {
              "color": "#E5ECF6",
              "width": 0.5
             },
             "pattern": {
              "fillmode": "overlay",
              "size": 10,
              "solidity": 0.2
             }
            },
            "type": "barpolar"
           }
          ],
          "carpet": [
           {
            "aaxis": {
             "endlinecolor": "#2a3f5f",
             "gridcolor": "white",
             "linecolor": "white",
             "minorgridcolor": "white",
             "startlinecolor": "#2a3f5f"
            },
            "baxis": {
             "endlinecolor": "#2a3f5f",
             "gridcolor": "white",
             "linecolor": "white",
             "minorgridcolor": "white",
             "startlinecolor": "#2a3f5f"
            },
            "type": "carpet"
           }
          ],
          "choropleth": [
           {
            "colorbar": {
             "outlinewidth": 0,
             "ticks": ""
            },
            "type": "choropleth"
           }
          ],
          "contour": [
           {
            "colorbar": {
             "outlinewidth": 0,
             "ticks": ""
            },
            "colorscale": [
             [
              0,
              "#0d0887"
             ],
             [
              0.1111111111111111,
              "#46039f"
             ],
             [
              0.2222222222222222,
              "#7201a8"
             ],
             [
              0.3333333333333333,
              "#9c179e"
             ],
             [
              0.4444444444444444,
              "#bd3786"
             ],
             [
              0.5555555555555556,
              "#d8576b"
             ],
             [
              0.6666666666666666,
              "#ed7953"
             ],
             [
              0.7777777777777778,
              "#fb9f3a"
             ],
             [
              0.8888888888888888,
              "#fdca26"
             ],
             [
              1,
              "#f0f921"
             ]
            ],
            "type": "contour"
           }
          ],
          "contourcarpet": [
           {
            "colorbar": {
             "outlinewidth": 0,
             "ticks": ""
            },
            "type": "contourcarpet"
           }
          ],
          "heatmap": [
           {
            "colorbar": {
             "outlinewidth": 0,
             "ticks": ""
            },
            "colorscale": [
             [
              0,
              "#0d0887"
             ],
             [
              0.1111111111111111,
              "#46039f"
             ],
             [
              0.2222222222222222,
              "#7201a8"
             ],
             [
              0.3333333333333333,
              "#9c179e"
             ],
             [
              0.4444444444444444,
              "#bd3786"
             ],
             [
              0.5555555555555556,
              "#d8576b"
             ],
             [
              0.6666666666666666,
              "#ed7953"
             ],
             [
              0.7777777777777778,
              "#fb9f3a"
             ],
             [
              0.8888888888888888,
              "#fdca26"
             ],
             [
              1,
              "#f0f921"
             ]
            ],
            "type": "heatmap"
           }
          ],
          "heatmapgl": [
           {
            "colorbar": {
             "outlinewidth": 0,
             "ticks": ""
            },
            "colorscale": [
             [
              0,
              "#0d0887"
             ],
             [
              0.1111111111111111,
              "#46039f"
             ],
             [
              0.2222222222222222,
              "#7201a8"
             ],
             [
              0.3333333333333333,
              "#9c179e"
             ],
             [
              0.4444444444444444,
              "#bd3786"
             ],
             [
              0.5555555555555556,
              "#d8576b"
             ],
             [
              0.6666666666666666,
              "#ed7953"
             ],
             [
              0.7777777777777778,
              "#fb9f3a"
             ],
             [
              0.8888888888888888,
              "#fdca26"
             ],
             [
              1,
              "#f0f921"
             ]
            ],
            "type": "heatmapgl"
           }
          ],
          "histogram": [
           {
            "marker": {
             "pattern": {
              "fillmode": "overlay",
              "size": 10,
              "solidity": 0.2
             }
            },
            "type": "histogram"
           }
          ],
          "histogram2d": [
           {
            "colorbar": {
             "outlinewidth": 0,
             "ticks": ""
            },
            "colorscale": [
             [
              0,
              "#0d0887"
             ],
             [
              0.1111111111111111,
              "#46039f"
             ],
             [
              0.2222222222222222,
              "#7201a8"
             ],
             [
              0.3333333333333333,
              "#9c179e"
             ],
             [
              0.4444444444444444,
              "#bd3786"
             ],
             [
              0.5555555555555556,
              "#d8576b"
             ],
             [
              0.6666666666666666,
              "#ed7953"
             ],
             [
              0.7777777777777778,
              "#fb9f3a"
             ],
             [
              0.8888888888888888,
              "#fdca26"
             ],
             [
              1,
              "#f0f921"
             ]
            ],
            "type": "histogram2d"
           }
          ],
          "histogram2dcontour": [
           {
            "colorbar": {
             "outlinewidth": 0,
             "ticks": ""
            },
            "colorscale": [
             [
              0,
              "#0d0887"
             ],
             [
              0.1111111111111111,
              "#46039f"
             ],
             [
              0.2222222222222222,
              "#7201a8"
             ],
             [
              0.3333333333333333,
              "#9c179e"
             ],
             [
              0.4444444444444444,
              "#bd3786"
             ],
             [
              0.5555555555555556,
              "#d8576b"
             ],
             [
              0.6666666666666666,
              "#ed7953"
             ],
             [
              0.7777777777777778,
              "#fb9f3a"
             ],
             [
              0.8888888888888888,
              "#fdca26"
             ],
             [
              1,
              "#f0f921"
             ]
            ],
            "type": "histogram2dcontour"
           }
          ],
          "mesh3d": [
           {
            "colorbar": {
             "outlinewidth": 0,
             "ticks": ""
            },
            "type": "mesh3d"
           }
          ],
          "parcoords": [
           {
            "line": {
             "colorbar": {
              "outlinewidth": 0,
              "ticks": ""
             }
            },
            "type": "parcoords"
           }
          ],
          "pie": [
           {
            "automargin": true,
            "type": "pie"
           }
          ],
          "scatter": [
           {
            "fillpattern": {
             "fillmode": "overlay",
             "size": 10,
             "solidity": 0.2
            },
            "type": "scatter"
           }
          ],
          "scatter3d": [
           {
            "line": {
             "colorbar": {
              "outlinewidth": 0,
              "ticks": ""
             }
            },
            "marker": {
             "colorbar": {
              "outlinewidth": 0,
              "ticks": ""
             }
            },
            "type": "scatter3d"
           }
          ],
          "scattercarpet": [
           {
            "marker": {
             "colorbar": {
              "outlinewidth": 0,
              "ticks": ""
             }
            },
            "type": "scattercarpet"
           }
          ],
          "scattergeo": [
           {
            "marker": {
             "colorbar": {
              "outlinewidth": 0,
              "ticks": ""
             }
            },
            "type": "scattergeo"
           }
          ],
          "scattergl": [
           {
            "marker": {
             "colorbar": {
              "outlinewidth": 0,
              "ticks": ""
             }
            },
            "type": "scattergl"
           }
          ],
          "scattermapbox": [
           {
            "marker": {
             "colorbar": {
              "outlinewidth": 0,
              "ticks": ""
             }
            },
            "type": "scattermapbox"
           }
          ],
          "scatterpolar": [
           {
            "marker": {
             "colorbar": {
              "outlinewidth": 0,
              "ticks": ""
             }
            },
            "type": "scatterpolar"
           }
          ],
          "scatterpolargl": [
           {
            "marker": {
             "colorbar": {
              "outlinewidth": 0,
              "ticks": ""
             }
            },
            "type": "scatterpolargl"
           }
          ],
          "scatterternary": [
           {
            "marker": {
             "colorbar": {
              "outlinewidth": 0,
              "ticks": ""
             }
            },
            "type": "scatterternary"
           }
          ],
          "surface": [
           {
            "colorbar": {
             "outlinewidth": 0,
             "ticks": ""
            },
            "colorscale": [
             [
              0,
              "#0d0887"
             ],
             [
              0.1111111111111111,
              "#46039f"
             ],
             [
              0.2222222222222222,
              "#7201a8"
             ],
             [
              0.3333333333333333,
              "#9c179e"
             ],
             [
              0.4444444444444444,
              "#bd3786"
             ],
             [
              0.5555555555555556,
              "#d8576b"
             ],
             [
              0.6666666666666666,
              "#ed7953"
             ],
             [
              0.7777777777777778,
              "#fb9f3a"
             ],
             [
              0.8888888888888888,
              "#fdca26"
             ],
             [
              1,
              "#f0f921"
             ]
            ],
            "type": "surface"
           }
          ],
          "table": [
           {
            "cells": {
             "fill": {
              "color": "#EBF0F8"
             },
             "line": {
              "color": "white"
             }
            },
            "header": {
             "fill": {
              "color": "#C8D4E3"
             },
             "line": {
              "color": "white"
             }
            },
            "type": "table"
           }
          ]
         },
         "layout": {
          "annotationdefaults": {
           "arrowcolor": "#2a3f5f",
           "arrowhead": 0,
           "arrowwidth": 1
          },
          "autotypenumbers": "strict",
          "coloraxis": {
           "colorbar": {
            "outlinewidth": 0,
            "ticks": ""
           }
          },
          "colorscale": {
           "diverging": [
            [
             0,
             "#8e0152"
            ],
            [
             0.1,
             "#c51b7d"
            ],
            [
             0.2,
             "#de77ae"
            ],
            [
             0.3,
             "#f1b6da"
            ],
            [
             0.4,
             "#fde0ef"
            ],
            [
             0.5,
             "#f7f7f7"
            ],
            [
             0.6,
             "#e6f5d0"
            ],
            [
             0.7,
             "#b8e186"
            ],
            [
             0.8,
             "#7fbc41"
            ],
            [
             0.9,
             "#4d9221"
            ],
            [
             1,
             "#276419"
            ]
           ],
           "sequential": [
            [
             0,
             "#0d0887"
            ],
            [
             0.1111111111111111,
             "#46039f"
            ],
            [
             0.2222222222222222,
             "#7201a8"
            ],
            [
             0.3333333333333333,
             "#9c179e"
            ],
            [
             0.4444444444444444,
             "#bd3786"
            ],
            [
             0.5555555555555556,
             "#d8576b"
            ],
            [
             0.6666666666666666,
             "#ed7953"
            ],
            [
             0.7777777777777778,
             "#fb9f3a"
            ],
            [
             0.8888888888888888,
             "#fdca26"
            ],
            [
             1,
             "#f0f921"
            ]
           ],
           "sequentialminus": [
            [
             0,
             "#0d0887"
            ],
            [
             0.1111111111111111,
             "#46039f"
            ],
            [
             0.2222222222222222,
             "#7201a8"
            ],
            [
             0.3333333333333333,
             "#9c179e"
            ],
            [
             0.4444444444444444,
             "#bd3786"
            ],
            [
             0.5555555555555556,
             "#d8576b"
            ],
            [
             0.6666666666666666,
             "#ed7953"
            ],
            [
             0.7777777777777778,
             "#fb9f3a"
            ],
            [
             0.8888888888888888,
             "#fdca26"
            ],
            [
             1,
             "#f0f921"
            ]
           ]
          },
          "colorway": [
           "#636efa",
           "#EF553B",
           "#00cc96",
           "#ab63fa",
           "#FFA15A",
           "#19d3f3",
           "#FF6692",
           "#B6E880",
           "#FF97FF",
           "#FECB52"
          ],
          "font": {
           "color": "#2a3f5f"
          },
          "geo": {
           "bgcolor": "white",
           "lakecolor": "white",
           "landcolor": "#E5ECF6",
           "showlakes": true,
           "showland": true,
           "subunitcolor": "white"
          },
          "hoverlabel": {
           "align": "left"
          },
          "hovermode": "closest",
          "mapbox": {
           "style": "light"
          },
          "paper_bgcolor": "white",
          "plot_bgcolor": "#E5ECF6",
          "polar": {
           "angularaxis": {
            "gridcolor": "white",
            "linecolor": "white",
            "ticks": ""
           },
           "bgcolor": "#E5ECF6",
           "radialaxis": {
            "gridcolor": "white",
            "linecolor": "white",
            "ticks": ""
           }
          },
          "scene": {
           "xaxis": {
            "backgroundcolor": "#E5ECF6",
            "gridcolor": "white",
            "gridwidth": 2,
            "linecolor": "white",
            "showbackground": true,
            "ticks": "",
            "zerolinecolor": "white"
           },
           "yaxis": {
            "backgroundcolor": "#E5ECF6",
            "gridcolor": "white",
            "gridwidth": 2,
            "linecolor": "white",
            "showbackground": true,
            "ticks": "",
            "zerolinecolor": "white"
           },
           "zaxis": {
            "backgroundcolor": "#E5ECF6",
            "gridcolor": "white",
            "gridwidth": 2,
            "linecolor": "white",
            "showbackground": true,
            "ticks": "",
            "zerolinecolor": "white"
           }
          },
          "shapedefaults": {
           "line": {
            "color": "#2a3f5f"
           }
          },
          "ternary": {
           "aaxis": {
            "gridcolor": "white",
            "linecolor": "white",
            "ticks": ""
           },
           "baxis": {
            "gridcolor": "white",
            "linecolor": "white",
            "ticks": ""
           },
           "bgcolor": "#E5ECF6",
           "caxis": {
            "gridcolor": "white",
            "linecolor": "white",
            "ticks": ""
           }
          },
          "title": {
           "x": 0.05
          },
          "xaxis": {
           "automargin": true,
           "gridcolor": "white",
           "linecolor": "white",
           "ticks": "",
           "title": {
            "standoff": 15
           },
           "zerolinecolor": "white",
           "zerolinewidth": 2
          },
          "yaxis": {
           "automargin": true,
           "gridcolor": "white",
           "linecolor": "white",
           "ticks": "",
           "title": {
            "standoff": 15
           },
           "zerolinecolor": "white",
           "zerolinewidth": 2
          }
         }
        },
        "title": {
         "text": "AAPL Candlestick"
        },
        "xaxis": {
         "rangebreaks": [
          {
           "bounds": [
            "sat",
            "mon"
           ]
          },
          {
           "bounds": [
            16,
            9.5
           ],
           "pattern": "hour"
          },
          {
           "values": [
            "2025-06-19T09:30:00",
            "2025-07-04T09:30:00"
           ]
          }
         ],
         "title": {
          "text": "Date"
         }
        },
        "yaxis": {
         "title": {
          "text": "Price"
         }
        }
       }
      },
      "image/png": "[encoded data removed]",
      "text/html": [
       "<div>                            <div id=\"8733cf24-e5d8-491d-b5eb-a99bc650d781\" class=\"plotly-graph-div\" style=\"height:525px; width:100%;\"></div>            <script type=\"text/javascript\">                require([\"plotly\"], function(Plotly) {                    window.PLOTLYENV=window.PLOTLYENV || {};                                    if (document.getElementById(\"8733cf24-e5d8-491d-b5eb-a99bc650d781\")) {                    Plotly.newPlot(                        \"8733cf24-e5d8-491d-b5eb-a99bc650d781\",                        [{\"close\":[200.91000366210938,199.23919677734375,198.97999572753906,198.85000610351562,198.0666961669922,198.14999389648438,198.58999633789062,199.25999450683594,198.75,198.88499450683594,199.1999969482422,196.15499877929688,197.50999450683594,197.27000427246094,197.27000427246094,196.2779998779297,196.22000122070312,196.4499969482422,198.42999267578125,197.31500244140625,197.0800018310547,197.875,197.9886932373047,198.2449951171875,198.3699951171875,197.5800018310547,197.5800018310547,197.61500549316406,196.52000427246094,195.4600067138672,195.83999633789062,195.63999938964844,197.06019592285156,196.94000244140625,196.9508056640625,196.05999755859375,195.91000366210938,195.63999938964844,196.25,198.67999267578125,197.6699981689453,198.49000549316406,198.32000732421875,199.80999755859375,199.92999267578125,200.94000244140625,201.37179565429688,200.52999877929688,200.1396026611328,201.43899536132812,201.69000244140625,201.36019897460938,201.5500030517578,200.9822998046875,201.3800048828125,202.4499969482422,201.9600067138672,201.57000732421875,201.52999877929688,200.2899932861328,202.44000244140625,202.10000610351562,201.8699951171875,201.13999938964844,201.01539611816406,201.15980529785156,201.60000610351562,199.75,199.69000244140625,200.122802734375,200.24000549316406,200.97999572753906,201.1750030517578,200.94000244140625,201.58009338378906,201.38180541992188,201.99000549316406,202.0800018310547,201.44000244140625,201.125,201.10000610351562,201.00990295410156,199.97000122070312,200.3249969482422,200.15499877929688,200.69500732421875,206.58560180664062,205.1199951171875,209.54010009765625,207.9499969482422,207.875,208.1103057861328,208.2100067138672,208.19000244140625,207.86000061035156,212.3000030517578,211.47500610351562,210.92030334472656,210.81809997558594,211.58999633789062,211.88999938964844,212.41000366210938,213.73500061035156,213.8800048828125,214.10000610351562,212.36000061035156,212.0399932861328,210.8365020751953,209.67039489746094,208.94039916992188,209.4499969482422,209.94000244140625,209.27999877929688,209.87069702148438,210.8300018310547,209.8350067138672,209.94500732421875,209.60499572753906,210.03500366210938,209.91000366210938,207.80499267578125,207.8000030517578,208.9156036376953,209.7324981689453,209.88999938964844,211.11000061035156,212.00999450683594,212.97999572753906,212.0800018310547,212.6199951171875,212.60000610351562,212.5749969482422,212.4199981689453,211.7899932861328,210.8249969482422,210.63499450683594,210.53990173339844],\"high\":[201.2364959716797,200.98500061035156,199.60000610351562,199.125,199.38999938964844,198.9250030517578,198.63999938964844,199.44000244140625,199.67990112304688,199.0500030517578,199.1999969482422,200.3699951171875,197.63999938964844,198.04750061035156,197.57000732421875,197.7100067138672,196.63999938964844,196.69000244140625,198.68499755859375,198.66000366210938,197.6300048828125,197.9550018310547,198.19000244140625,198.39999389648438,198.49000549316406,197.92999267578125,197.7899932861328,198.38890075683594,197.845703125,196.82000732421875,195.94000244140625,195.88499450683594,197.50999450683594,197.57000732421875,197.22999572753906,197.02000427246094,196.97999572753906,196.4499969482422,197.11000061035156,200.94000244140625,198.69000244140625,198.86000061035156,199.3699951171875,200.19000244140625,200.33670043945312,201.6999969482422,202.3000030517578,201.58999633789062,200.52000427246094,201.52000427246094,202.24000549316406,201.8968048095703,201.83999633789062,202.6699981689453,201.5800018310547,202.56500244140625,203.44000244140625,202.3300018310547,202.01499938964844,201.5998992919922,203.66000366210938,203.1750030517578,202.1699981689453,202.17970275878906,201.27999877929688,201.5,201.6199951171875,202.61500549316406,200.50999450683594,200.7899932861328,200.27000427246094,201.36000061035156,201.17869567871094,201.55999755859375,203.22000122070312,201.9501953125,202.0500030517578,202.6999969482422,202.11000061035156,201.52000427246094,201.27000427246094,202.19000244140625,201.32000732421875,200.4199981689453,200.47999572753906,200.8300018310547,207.08999633789062,207.38999938964844,209.8300018310547,210.18649291992188,208.18499755859375,208.52999877929688,208.4199981689453,208.42990112304688,208.22999572753906,213.33999633789062,212.85000610351562,212.00999450683594,211.3300018310547,211.77000427246094,212.9600067138672,212.75,213.85989379882812,214.4600067138672,214.64999389648438,216.22999572753906,212.60000610351562,212.1999969482422,211.16990661621094,210.5,210.07000732421875,210.25,210.49000549316406,211.42999267578125,211.18499755859375,210.88999938964844,210.25999450683594,210.0449981689453,210.33999633789062,210.89999389648438,209.89999389648438,208.22000122070312,209.0449981689453,209.97999572753906,210.19000244140625,211.3300018310547,212.29989624023438,213.47999572753906,213.17999267578125,212.77999877929688,213.16000366210938,213.4499969482422,213.02000427246094,212.1300048828125,211.7899932861328,211.2100067138672,210.66749572753906],\"low\":[200.18499755859375,198.7100067138672,198.6199951171875,198.41000366210938,197.360107421875,197.86270141601562,197.7550048828125,198.2100067138672,198.6696014404297,198.5449981689453,198.39999389648438,195.91000366210938,195.97999572753906,197.2100067138672,196.9199981689453,196.22000122070312,195.80999755859375,195.77000427246094,196.5635986328125,197.1649932861328,196.875,197.02000427246094,197.77000427246094,197.66000366210938,197.92999267578125,196.2550048828125,197.3249969482422,197.4600067138672,196.46499633789062,195.2100067138672,195.42030334472656,195.4409942626953,195.07000732421875,196.63499450683594,196.50030517578125,196.0500030517578,195.6300048828125,195.11000061035156,195.46600341796875,197.52999877929688,196.85960388183594,197.6999969482422,198.27000427246094,198.07000732421875,199.60009765625,199.77000427246094,199.94000244140625,200.22500610351562,199.50999450683594,198.9600067138672,201.0800018310547,201.0507049560547,201.13499450683594,200.1999969482422,200.7404022216797,201.24000549316406,201.94000244140625,201.30999755859375,201.30499267578125,200.27000427246094,201.1999969482422,201.99000549316406,201.39999389648438,201.08999633789062,200.62010192871094,200.9499969482422,200.88499450683594,199.64999389648438,199.6199951171875,199.4600067138672,199.63499450683594,199.97500610351562,200.75,200.7899932861328,201.25999450683594,200.85499572753906,201.38999938964844,201.72999572753906,200.92999267578125,200.7899932861328,200.22000122070312,200.35240173339844,199.59010314941406,199.8000030517578,199.84500122070312,199.89999389648438,199.2606964111328,205.0500030517578,206.14010620117188,207.47000122070312,206.7899932861328,207.10000610351562,207.61000061035156,207.375,207.51499938964844,208.2760009765625,211.4199981689453,210.86000061035156,210.22000122070312,210.74000549316406,211.3699951171875,211.9499969482422,211.8101043701172,213.0399932861328,213.6699981689453,211.80999755859375,211.60000610351562,210.3800048828125,209.52000427246094,208.91000366210938,208.8000030517578,209.19000244140625,208.4499969482422,209.25999450683594,209.77999877929688,209.5,209.32000732421875,209.40499877929688,209.3000030517578,209.35000610351562,207.22000122070312,207.26589965820312,207.57139587402344,208.72000122070312,209.6199951171875,209.72999572753906,210.1199951171875,211.89999389648438,211.8300018310547,211.85000610351562,212.30999755859375,212.57000732421875,212.08999633789062,209.86000061035156,210.47999572753906,210.46499633789062,210.4499969482422],\"open\":[200.19070434570312,200.90499877929688,199.22000122070312,198.9499969482422,199.0800018310547,198.0800018310547,198.13369750976562,198.5800018310547,199.25999450683594,198.75999450683594,198.8800048828125,199.50999450683594,196.13999938964844,197.52000427246094,197.2899932861328,197.25,196.25999450683594,196.24000549316406,197.2899932861328,198.43499755859375,197.30999755859375,197.10000610351562,197.88499450683594,197.99000549316406,198.2449951171875,197.25,197.58299255371094,197.58999633789062,197.61000061035156,196.50999450683594,195.47999572753906,195.85000610351562,195.9199981689453,197.11000061035156,196.85000610351562,196.94000244140625,196.07000732421875,195.9199981689453,195.6300048828125,198.23500061035156,198.69000244140625,197.7100067138672,198.49000549316406,198.32000732421875,199.82000732421875,199.9199981689453,201.53199768066406,201.3800048828125,200.3300018310547,200.13999938964844,201.4600067138672,201.6699981689453,201.35000610351562,201.60000610351562,200.99000549316406,201.4600067138672,202.45150756835938,201.9600067138672,201.5800018310547,201.53500366210938,201.4199981689453,202.44000244140625,202.10499572753906,201.8800048828125,201.13999938964844,201.02000427246094,201.13999938964844,202.35000610351562,199.74000549316406,199.7100067138672,200.13780212402344,200.25,200.99000549316406,201.17520141601562,201.89500427246094,201.58999633789062,201.39999389648438,201.99000549316406,202.0800018310547,201.4499969482422,201.1300048828125,202.00999450683594,201.0050048828125,199.98919677734375,200.30999755859375,200.15499877929688,200.69509887695312,206.5500030517578,206.6649932861328,209.5500946044922,207.9600067138672,207.8699951171875,208.1199951171875,208.2100067138672,208.18499755859375,209.0800018310547,212.27999877929688,211.49000549316406,210.9199981689453,210.80999755859375,211.5749969482422,212.0500030517578,212.14500427246094,213.74000549316406,213.889892578125,212.67999267578125,212.3699951171875,212.1199951171875,210.83900451660156,209.6699981689453,208.94000244140625,209.4600067138672,210.1300048828125,209.28500366210938,209.8800048828125,210.83999633789062,209.83999633789062,209.9499969482422,209.58999633789062,209.52999877929688,209.88999938964844,207.80999755859375,207.81039428710938,208.9149932861328,209.7449951171875,209.8800048828125,210.5050048828125,212.02999877929688,212.99000549316406,212.07000732421875,212.61000061035156,212.5948944091797,212.5800018310547,210.56500244140625,211.7899932861328,210.8300018310547,210.6199951171875],\"x\":[\"2025-06-11T12:30:00-04:00\",\"2025-06-11T13:30:00-04:00\",\"2025-06-11T14:30:00-04:00\",\"2025-06-11T15:30:00-04:00\",\"2025-06-12T09:30:00-04:00\",\"2025-06-12T10:30:00-04:00\",\"2025-06-12T11:30:00-04:00\",\"2025-06-12T12:30:00-04:00\",\"2025-06-12T13:30:00-04:00\",\"2025-06-12T14:30:00-04:00\",\"2025-06-12T15:30:00-04:00\",\"2025-06-13T09:30:00-04:00\",\"2025-06-13T10:30:00-04:00\",\"2025-06-13T11:30:00-04:00\",\"2025-06-13T12:30:00-04:00\",\"2025-06-13T13:30:00-04:00\",\"2025-06-13T14:30:00-04:00\",\"2025-06-13T15:30:00-04:00\",\"2025-06-16T09:30:00-04:00\",\"2025-06-16T10:30:00-04:00\",\"2025-06-16T11:30:00-04:00\",\"2025-06-16T12:30:00-04:00\",\"2025-06-16T13:30:00-04:00\",\"2025-06-16T14:30:00-04:00\",\"2025-06-16T15:30:00-04:00\",\"2025-06-17T09:30:00-04:00\",\"2025-06-17T10:30:00-04:00\",\"2025-06-17T11:30:00-04:00\",\"2025-06-17T12:30:00-04:00\",\"2025-06-17T13:30:00-04:00\",\"2025-06-17T14:30:00-04:00\",\"2025-06-17T15:30:00-04:00\",\"2025-06-18T09:30:00-04:00\",\"2025-06-18T10:30:00-04:00\",\"2025-06-18T11:30:00-04:00\",\"2025-06-18T12:30:00-04:00\",\"2025-06-18T13:30:00-04:00\",\"2025-06-18T14:30:00-04:00\",\"2025-06-18T15:30:00-04:00\",\"2025-06-20T09:30:00-04:00\",\"2025-06-20T10:30:00-04:00\",\"2025-06-20T11:30:00-04:00\",\"2025-06-20T12:30:00-04:00\",\"2025-06-20T13:30:00-04:00\",\"2025-06-20T14:30:00-04:00\",\"2025-06-20T15:30:00-04:00\",\"2025-06-23T09:30:00-04:00\",\"2025-06-23T10:30:00-04:00\",\"2025-06-23T11:30:00-04:00\",\"2025-06-23T12:30:00-04:00\",\"2025-06-23T13:30:00-04:00\",\"2025-06-23T14:30:00-04:00\",\"2025-06-23T15:30:00-04:00\",\"2025-06-24T09:30:00-04:00\",\"2025-06-24T10:30:00-04:00\",\"2025-06-24T11:30:00-04:00\",\"2025-06-24T12:30:00-04:00\",\"2025-06-24T13:30:00-04:00\",\"2025-06-24T14:30:00-04:00\",\"2025-06-24T15:30:00-04:00\",\"2025-06-25T09:30:00-04:00\",\"2025-06-25T10:30:00-04:00\",\"2025-06-25T11:30:00-04:00\",\"2025-06-25T12:30:00-04:00\",\"2025-06-25T13:30:00-04:00\",\"2025-06-25T14:30:00-04:00\",\"2025-06-25T15:30:00-04:00\",\"2025-06-26T09:30:00-04:00\",\"2025-06-26T10:30:00-04:00\",\"2025-06-26T11:30:00-04:00\",\"2025-06-26T12:30:00-04:00\",\"2025-06-26T13:30:00-04:00\",\"2025-06-26T14:30:00-04:00\",\"2025-06-26T15:30:00-04:00\",\"2025-06-27T09:30:00-04:00\",\"2025-06-27T10:30:00-04:00\",\"2025-06-27T11:30:00-04:00\",\"2025-06-27T12:30:00-04:00\",\"2025-06-27T13:30:00-04:00\",\"2025-06-27T14:30:00-04:00\",\"2025-06-27T15:30:00-04:00\",\"2025-06-30T09:30:00-04:00\",\"2025-06-30T10:30:00-04:00\",\"2025-06-30T11:30:00-04:00\",\"2025-06-30T12:30:00-04:00\",\"2025-06-30T13:30:00-04:00\",\"2025-06-30T14:30:00-04:00\",\"2025-06-30T15:30:00-04:00\",\"2025-07-01T09:30:00-04:00\",\"2025-07-01T10:30:00-04:00\",\"2025-07-01T11:30:00-04:00\",\"2025-07-01T12:30:00-04:00\",\"2025-07-01T13:30:00-04:00\",\"2025-07-01T14:30:00-04:00\",\"2025-07-01T15:30:00-04:00\",\"2025-07-02T09:30:00-04:00\",\"2025-07-02T10:30:00-04:00\",\"2025-07-02T11:30:00-04:00\",\"2025-07-02T12:30:00-04:00\",\"2025-07-02T13:30:00-04:00\",\"2025-07-02T14:30:00-04:00\",\"2025-07-02T15:30:00-04:00\",\"2025-07-03T09:30:00-04:00\",\"2025-07-03T10:30:00-04:00\",\"2025-07-03T11:30:00-04:00\",\"2025-07-07T09:30:00-04:00\",\"2025-07-07T10:30:00-04:00\",\"2025-07-07T11:30:00-04:00\",\"2025-07-07T12:30:00-04:00\",\"2025-07-07T13:30:00-04:00\",\"2025-07-07T14:30:00-04:00\",\"2025-07-07T15:30:00-04:00\",\"2025-07-08T09:30:00-04:00\",\"2025-07-08T10:30:00-04:00\",\"2025-07-08T11:30:00-04:00\",\"2025-07-08T12:30:00-04:00\",\"2025-07-08T13:30:00-04:00\",\"2025-07-08T14:30:00-04:00\",\"2025-07-08T15:30:00-04:00\",\"2025-07-09T09:30:00-04:00\",\"2025-07-09T10:30:00-04:00\",\"2025-07-09T11:30:00-04:00\",\"2025-07-09T12:30:00-04:00\",\"2025-07-09T13:30:00-04:00\",\"2025-07-09T14:30:00-04:00\",\"2025-07-09T15:30:00-04:00\",\"2025-07-10T09:30:00-04:00\",\"2025-07-10T10:30:00-04:00\",\"2025-07-10T11:30:00-04:00\",\"2025-07-10T12:30:00-04:00\",\"2025-07-10T13:30:00-04:00\",\"2025-07-10T14:30:00-04:00\",\"2025-07-10T15:30:00-04:00\",\"2025-07-11T09:30:00-04:00\",\"2025-07-11T10:30:00-04:00\",\"2025-07-11T11:30:00-04:00\",\"2025-07-11T12:30:00-04:00\"],\"type\":\"candlestick\"}],                        {\"template\":{\"data\":{\"histogram2dcontour\":[{\"type\":\"histogram2dcontour\",\"colorbar\":{\"outlinewidth\":0,\"ticks\":\"\"},\"colorscale\":[[0.0,\"#0d0887\"],[0.1111111111111111,\"#46039f\"],[0.2222222222222222,\"#7201a8\"],[0.3333333333333333,\"#9c179e\"],[0.4444444444444444,\"#bd3786\"],[0.5555555555555556,\"#d8576b\"],[0.6666666666666666,\"#ed7953\"],[0.7777777777777778,\"#fb9f3a\"],[0.8888888888888888,\"#fdca26\"],[1.0,\"#f0f921\"]]}],\"choropleth\":[{\"type\":\"choropleth\",\"colorbar\":{\"outlinewidth\":0,\"ticks\":\"\"}}],\"histogram2d\":[{\"type\":\"histogram2d\",\"colorbar\":{\"outlinewidth\":0,\"ticks\":\"\"},\"colorscale\":[[0.0,\"#0d0887\"],[0.1111111111111111,\"#46039f\"],[0.2222222222222222,\"#7201a8\"],[0.3333333333333333,\"#9c179e\"],[0.4444444444444444,\"#bd3786\"],[0.5555555555555556,\"#d8576b\"],[0.6666666666666666,\"#ed7953\"],[0.7777777777777778,\"#fb9f3a\"],[0.8888888888888888,\"#fdca26\"],[1.0,\"#f0f921\"]]}],\"heatmap\":[{\"type\":\"heatmap\",\"colorbar\":{\"outlinewidth\":0,\"ticks\":\"\"},\"colorscale\":[[0.0,\"#0d0887\"],[0.1111111111111111,\"#46039f\"],[0.2222222222222222,\"#7201a8\"],[0.3333333333333333,\"#9c179e\"],[0.4444444444444444,\"#bd3786\"],[0.5555555555555556,\"#d8576b\"],[0.6666666666666666,\"#ed7953\"],[0.7777777777777778,\"#fb9f3a\"],[0.8888888888888888,\"#fdca26\"],[1.0,\"#f0f921\"]]}],\"heatmapgl\":[{\"type\":\"heatmapgl\",\"colorbar\":{\"outlinewidth\":0,\"ticks\":\"\"},\"colorscale\":[[0.0,\"#0d0887\"],[0.1111111111111111,\"#46039f\"],[0.2222222222222222,\"#7201a8\"],[0.3333333333333333,\"#9c179e\"],[0.4444444444444444,\"#bd3786\"],[0.5555555555555556,\"#d8576b\"],[0.6666666666666666,\"#ed7953\"],[0.7777777777777778,\"#fb9f3a\"],[0.8888888888888888,\"#fdca26\"],[1.0,\"#f0f921\"]]}],\"contourcarpet\":[{\"type\":\"contourcarpet\",\"colorbar\":{\"outlinewidth\":0,\"ticks\":\"\"}}],\"contour\":[{\"type\":\"contour\",\"colorbar\":{\"outlinewidth\":0,\"ticks\":\"\"},\"colorscale\":[[0.0,\"#0d0887\"],[0.1111111111111111,\"#46039f\"],[0.2222222222222222,\"#7201a8\"],[0.3333333333333333,\"#9c179e\"],[0.4444444444444444,\"#bd3786\"],[0.5555555555555556,\"#d8576b\"],[0.6666666666666666,\"#ed7953\"],[0.7777777777777778,\"#fb9f3a\"],[0.8888888888888888,\"#fdca26\"],[1.0,\"#f0f921\"]]}],\"surface\":[{\"type\":\"surface\",\"colorbar\":{\"outlinewidth\":0,\"ticks\":\"\"},\"colorscale\":[[0.0,\"#0d0887\"],[0.1111111111111111,\"#46039f\"],[0.2222222222222222,\"#7201a8\"],[0.3333333333333333,\"#9c179e\"],[0.4444444444444444,\"#bd3786\"],[0.5555555555555556,\"#d8576b\"],[0.6666666666666666,\"#ed7953\"],[0.7777777777777778,\"#fb9f3a\"],[0.8888888888888888,\"#fdca26\"],[1.0,\"#f0f921\"]]}],\"mesh3d\":[{\"type\":\"mesh3d\",\"colorbar\":{\"outlinewidth\":0,\"ticks\":\"\"}}],\"scatter\":[{\"fillpattern\":{\"fillmode\":\"overlay\",\"size\":10,\"solidity\":0.2},\"type\":\"scatter\"}],\"parcoords\":[{\"type\":\"parcoords\",\"line\":{\"colorbar\":{\"outlinewidth\":0,\"ticks\":\"\"}}}],\"scatterpolargl\":[{\"type\":\"scatterpolargl\",\"marker\":{\"colorbar\":{\"outlinewidth\":0,\"ticks\":\"\"}}}],\"bar\":[{\"error_x\":{\"color\":\"#2a3f5f\"},\"error_y\":{\"color\":\"#2a3f5f\"},\"marker\":{\"line\":{\"color\":\"#E5ECF6\",\"width\":0.5},\"pattern\":{\"fillmode\":\"overlay\",\"size\":10,\"solidity\":0.2}},\"type\":\"bar\"}],\"scattergeo\":[{\"type\":\"scattergeo\",\"marker\":{\"colorbar\":{\"outlinewidth\":0,\"ticks\":\"\"}}}],\"scatterpolar\":[{\"type\":\"scatterpolar\",\"marker\":{\"colorbar\":{\"outlinewidth\":0,\"ticks\":\"\"}}}],\"histogram\":[{\"marker\":{\"pattern\":{\"fillmode\":\"overlay\",\"size\":10,\"solidity\":0.2}},\"type\":\"histogram\"}],\"scattergl\":[{\"type\":\"scattergl\",\"marker\":{\"colorbar\":{\"outlinewidth\":0,\"ticks\":\"\"}}}],\"scatter3d\":[{\"type\":\"scatter3d\",\"line\":{\"colorbar\":{\"outlinewidth\":0,\"ticks\":\"\"}},\"marker\":{\"colorbar\":{\"outlinewidth\":0,\"ticks\":\"\"}}}],\"scattermapbox\":[{\"type\":\"scattermapbox\",\"marker\":{\"colorbar\":{\"outlinewidth\":0,\"ticks\":\"\"}}}],\"scatterternary\":[{\"type\":\"scatterternary\",\"marker\":{\"colorbar\":{\"outlinewidth\":0,\"ticks\":\"\"}}}],\"scattercarpet\":[{\"type\":\"scattercarpet\",\"marker\":{\"colorbar\":{\"outlinewidth\":0,\"ticks\":\"\"}}}],\"carpet\":[{\"aaxis\":{\"endlinecolor\":\"#2a3f5f\",\"gridcolor\":\"white\",\"linecolor\":\"white\",\"minorgridcolor\":\"white\",\"startlinecolor\":\"#2a3f5f\"},\"baxis\":{\"endlinecolor\":\"#2a3f5f\",\"gridcolor\":\"white\",\"linecolor\":\"white\",\"minorgridcolor\":\"white\",\"startlinecolor\":\"#2a3f5f\"},\"type\":\"carpet\"}],\"table\":[{\"cells\":{\"fill\":{\"color\":\"#EBF0F8\"},\"line\":{\"color\":\"white\"}},\"header\":{\"fill\":{\"color\":\"#C8D4E3\"},\"line\":{\"color\":\"white\"}},\"type\":\"table\"}],\"barpolar\":[{\"marker\":{\"line\":{\"color\":\"#E5ECF6\",\"width\":0.5},\"pattern\":{\"fillmode\":\"overlay\",\"size\":10,\"solidity\":0.2}},\"type\":\"barpolar\"}],\"pie\":[{\"automargin\":true,\"type\":\"pie\"}]},\"layout\":{\"autotypenumbers\":\"strict\",\"colorway\":[\"#636efa\",\"#EF553B\",\"#00cc96\",\"#ab63fa\",\"#FFA15A\",\"#19d3f3\",\"#FF6692\",\"#B6E880\",\"#FF97FF\",\"#FECB52\"],\"font\":{\"color\":\"#2a3f5f\"},\"hovermode\":\"closest\",\"hoverlabel\":{\"align\":\"left\"},\"paper_bgcolor\":\"white\",\"plot_bgcolor\":\"#E5ECF6\",\"polar\":{\"bgcolor\":\"#E5ECF6\",\"angularaxis\":{\"gridcolor\":\"white\",\"linecolor\":\"white\",\"ticks\":\"\"},\"radialaxis\":{\"gridcolor\":\"white\",\"linecolor\":\"white\",\"ticks\":\"\"}},\"ternary\":{\"bgcolor\":\"#E5ECF6\",\"aaxis\":{\"gridcolor\":\"white\",\"linecolor\":\"white\",\"ticks\":\"\"},\"baxis\":{\"gridcolor\":\"white\",\"linecolor\":\"white\",\"ticks\":\"\"},\"caxis\":{\"gridcolor\":\"white\",\"linecolor\":\"white\",\"ticks\":\"\"}},\"coloraxis\":{\"colorbar\":{\"outlinewidth\":0,\"ticks\":\"\"}},\"colorscale\":{\"sequential\":[[0.0,\"#0d0887\"],[0.1111111111111111,\"#46039f\"],[0.2222222222222222,\"#7201a8\"],[0.3333333333333333,\"#9c179e\"],[0.4444444444444444,\"#bd3786\"],[0.5555555555555556,\"#d8576b\"],[0.6666666666666666,\"#ed7953\"],[0.7777777777777778,\"#fb9f3a\"],[0.8888888888888888,\"#fdca26\"],[1.0,\"#f0f921\"]],\"sequentialminus\":[[0.0,\"#0d0887\"],[0.1111111111111111,\"#46039f\"],[0.2222222222222222,\"#7201a8\"],[0.3333333333333333,\"#9c179e\"],[0.4444444444444444,\"#bd3786\"],[0.5555555555555556,\"#d8576b\"],[0.6666666666666666,\"#ed7953\"],[0.7777777777777778,\"#fb9f3a\"],[0.8888888888888888,\"#fdca26\"],[1.0,\"#f0f921\"]],\"diverging\":[[0,\"#8e0152\"],[0.1,\"#c51b7d\"],[0.2,\"#de77ae\"],[0.3,\"#f1b6da\"],[0.4,\"#fde0ef\"],[0.5,\"#f7f7f7\"],[0.6,\"#e6f5d0\"],[0.7,\"#b8e186\"],[0.8,\"#7fbc41\"],[0.9,\"#4d9221\"],[1,\"#276419\"]]},\"xaxis\":{\"gridcolor\":\"white\",\"linecolor\":\"white\",\"ticks\":\"\",\"title\":{\"standoff\":15},\"zerolinecolor\":\"white\",\"automargin\":true,\"zerolinewidth\":2},\"yaxis\":{\"gridcolor\":\"white\",\"linecolor\":\"white\",\"ticks\":\"\",\"title\":{\"standoff\":15},\"zerolinecolor\":\"white\",\"automargin\":true,\"zerolinewidth\":2},\"scene\":{\"xaxis\":{\"backgroundcolor\":\"#E5ECF6\",\"gridcolor\":\"white\",\"linecolor\":\"white\",\"showbackground\":true,\"ticks\":\"\",\"zerolinecolor\":\"white\",\"gridwidth\":2},\"yaxis\":{\"backgroundcolor\":\"#E5ECF6\",\"gridcolor\":\"white\",\"linecolor\":\"white\",\"showbackground\":true,\"ticks\":\"\",\"zerolinecolor\":\"white\",\"gridwidth\":2},\"zaxis\":{\"backgroundcolor\":\"#E5ECF6\",\"gridcolor\":\"white\",\"linecolor\":\"white\",\"showbackground\":true,\"ticks\":\"\",\"zerolinecolor\":\"white\",\"gridwidth\":2}},\"shapedefaults\":{\"line\":{\"color\":\"#2a3f5f\"}},\"annotationdefaults\":{\"arrowcolor\":\"#2a3f5f\",\"arrowhead\":0,\"arrowwidth\":1},\"geo\":{\"bgcolor\":\"white\",\"landcolor\":\"#E5ECF6\",\"subunitcolor\":\"white\",\"showland\":true,\"showlakes\":true,\"lakecolor\":\"white\"},\"title\":{\"x\":0.05},\"mapbox\":{\"style\":\"light\"}}},\"xaxis\":{\"rangebreaks\":[{\"bounds\":[\"sat\",\"mon\"]},{\"bounds\":[16,9.5],\"pattern\":\"hour\"},{\"values\":[\"2025-06-19T09:30:00\",\"2025-07-04T09:30:00\"]}],\"title\":{\"text\":\"Date\"}},\"title\":{\"text\":\"AAPL Candlestick\"},\"yaxis\":{\"title\":{\"text\":\"Price\"}}},                        {\"responsive\": true}                    ).then(function(){\n",
       "                            \n",
       "var gd = document.getElementById('8733cf24-e5d8-491d-b5eb-a99bc650d781');\n",
       "var x = new MutationObserver(function (mutations, observer) {{\n",
       "        var display = window.getComputedStyle(gd).display;\n",
       "        if (!display || display === 'none') {{\n",
       "            console.log([gd, 'removed!']);\n",
       "            Plotly.purge(gd);\n",
       "            observer.disconnect();\n",
       "        }}\n",
       "}});\n",
       "\n",
       "// Listen for the removal of the full notebook cells\n",
       "var notebookContainer = gd.closest('#notebook-container');\n",
       "if (notebookContainer) {{\n",
       "    x.observe(notebookContainer, {childList: true});\n",
       "}}\n",
       "\n",
       "// Listen for the clearing of the current output cell\n",
       "var outputEl = gd.closest('.output');\n",
       "if (outputEl) {{\n",
       "    x.observe(outputEl, {childList: true});\n",
       "}}\n",
       "\n",
       "                        })                };                });            </script>        </div>"
      ]
     },
     "metadata": {},
     "output_type": "display_data"
    }
   ],
   "source": [
    "fig = go.Figure(data=[\n",
    "    go.Candlestick(\n",
    "        x=history.index,\n",
    "        open=history['Open'],\n",
    "        high=history['High'],\n",
    "        low=history['Low'],\n",
    "        close=history['Close']\n",
    "    )\n",
    "])\n",
    "\n",
    "# Remove weekend gaps\n",
    "fig.update_xaxes(\n",
    "    rangebreaks=[dict(bounds=[\"sat\", \"mon\"]),\n",
    "                 dict(pattern=\"hour\", bounds=[16, 9.5]),\n",
    "                 dict(values=us_holidays)])\n",
    "\n",
    "fig.update_layout(title=\"AAPL Candlestick\", xaxis_title=\"Date\", yaxis_title=\"Price\")\n",
    "\n",
    "fig.show()"
   ]
  },
  {
   "cell_type": "code",
   "execution_count": 202,
   "id": "cc98de77-a40a-44f1-ad80-f7ea555cb3c4",
   "metadata": {},
   "outputs": [],
   "source": [
    "del history, us_holidays, fig"
   ]
  }
 ],
 "metadata": {
  "kernelspec": {
   "display_name": "Python 3 (ipykernel)",
   "language": "python",
   "name": "python3"
  },
  "language_info": {
   "codemirror_mode": {
    "name": "ipython",
    "version": 3
   },
   "file_extension": ".py",
   "mimetype": "text/x-python",
   "name": "python",
   "nbconvert_exporter": "python",
   "pygments_lexer": "ipython3",
   "version": "3.11.8"
  }
 },
 "nbformat": 4,
 "nbformat_minor": 5
}
